{
 "cells": [
  {
   "cell_type": "code",
   "execution_count": 1,
   "metadata": {},
   "outputs": [],
   "source": [
    "import pandas as pd\n",
    "import functions as f"
   ]
  },
  {
   "cell_type": "code",
   "execution_count": 2,
   "metadata": {},
   "outputs": [
    {
     "name": "stdout",
     "output_type": "stream",
     "text": [
      "------------------\n",
      "Starting Master Function\n",
      "group 1 out of 4\n"
     ]
    },
    {
     "ename": "KeyboardInterrupt",
     "evalue": "",
     "output_type": "error",
     "traceback": [
      "\u001b[1;31m---------------------------------------------------------------------------\u001b[0m",
      "\u001b[1;31mKeyboardInterrupt\u001b[0m                         Traceback (most recent call last)",
      "\u001b[1;32m<ipython-input-2-659717cb0535>\u001b[0m in \u001b[0;36m<module>\u001b[1;34m\u001b[0m\n\u001b[0;32m      2\u001b[0m \u001b[0mstart_time\u001b[0m \u001b[1;33m=\u001b[0m \u001b[1;34m'18:20:00'\u001b[0m\u001b[1;33m\u001b[0m\u001b[1;33m\u001b[0m\u001b[0m\n\u001b[0;32m      3\u001b[0m \u001b[0mend_time\u001b[0m \u001b[1;33m=\u001b[0m \u001b[1;34m'18:30:00'\u001b[0m\u001b[1;33m\u001b[0m\u001b[1;33m\u001b[0m\u001b[0m\n\u001b[1;32m----> 4\u001b[1;33m \u001b[0mmaster_df\u001b[0m \u001b[1;33m=\u001b[0m \u001b[0mf\u001b[0m\u001b[1;33m.\u001b[0m\u001b[0mget_sonic_met_dat\u001b[0m\u001b[1;33m(\u001b[0m\u001b[0mpath_to_csvs\u001b[0m\u001b[1;33m,\u001b[0m \u001b[0mstart_time\u001b[0m \u001b[1;33m,\u001b[0m\u001b[0mend_time\u001b[0m\u001b[1;33m)\u001b[0m\u001b[1;33m\u001b[0m\u001b[1;33m\u001b[0m\u001b[0m\n\u001b[0m",
      "\u001b[1;32m~\\Desktop\\MetMastData\\Code\\Fresh\\rydalch\\functions.py\u001b[0m in \u001b[0;36mget_sonic_met_dat\u001b[1;34m(path_to_csvs, start_time, end_time)\u001b[0m\n\u001b[0;32m    330\u001b[0m \u001b[1;33m\u001b[0m\u001b[0m\n\u001b[0;32m    331\u001b[0m                         \u001b[0mturbSim_TS\u001b[0m\u001b[1;33m[\u001b[0m\u001b[0mheight\u001b[0m\u001b[1;33m]\u001b[0m\u001b[1;33m[\u001b[0m\u001b[0midx\u001b[0m\u001b[1;33m,\u001b[0m\u001b[1;34m\"U\"\u001b[0m\u001b[1;33m]\u001b[0m \u001b[1;33m=\u001b[0m \u001b[0mdflink\u001b[0m\u001b[1;33m.\u001b[0m\u001b[0mloc\u001b[0m\u001b[1;33m[\u001b[0m\u001b[0midx\u001b[0m\u001b[1;33m,\u001b[0m\u001b[1;34m\"U\"\u001b[0m\u001b[1;33m]\u001b[0m\u001b[1;33m\u001b[0m\u001b[1;33m\u001b[0m\u001b[0m\n\u001b[1;32m--> 332\u001b[1;33m                         \u001b[0mturbSim_TS\u001b[0m\u001b[1;33m[\u001b[0m\u001b[0mheight\u001b[0m\u001b[1;33m]\u001b[0m\u001b[1;33m[\u001b[0m\u001b[0midx\u001b[0m\u001b[1;33m,\u001b[0m\u001b[1;34m\"V\"\u001b[0m\u001b[1;33m]\u001b[0m \u001b[1;33m=\u001b[0m \u001b[0mdflink\u001b[0m\u001b[1;33m.\u001b[0m\u001b[0mloc\u001b[0m\u001b[1;33m[\u001b[0m\u001b[0midx\u001b[0m\u001b[1;33m,\u001b[0m\u001b[1;34m\"V\"\u001b[0m\u001b[1;33m]\u001b[0m\u001b[1;33m\u001b[0m\u001b[1;33m\u001b[0m\u001b[0m\n\u001b[0m\u001b[0;32m    333\u001b[0m                         \u001b[0mturbSim_TS\u001b[0m\u001b[1;33m[\u001b[0m\u001b[0mheight\u001b[0m\u001b[1;33m]\u001b[0m\u001b[1;33m[\u001b[0m\u001b[0midx\u001b[0m\u001b[1;33m,\u001b[0m\u001b[1;34m\"W\"\u001b[0m\u001b[1;33m]\u001b[0m \u001b[1;33m=\u001b[0m \u001b[0mdflink\u001b[0m\u001b[1;33m.\u001b[0m\u001b[0mloc\u001b[0m\u001b[1;33m[\u001b[0m\u001b[0midx\u001b[0m\u001b[1;33m,\u001b[0m\u001b[1;34m\"W\"\u001b[0m\u001b[1;33m]\u001b[0m\u001b[1;33m\u001b[0m\u001b[1;33m\u001b[0m\u001b[0m\n\u001b[0;32m    334\u001b[0m                         \u001b[0mturbSim_TS\u001b[0m\u001b[1;33m[\u001b[0m\u001b[0mheight\u001b[0m\u001b[1;33m]\u001b[0m\u001b[1;33m[\u001b[0m\u001b[0midx\u001b[0m\u001b[1;33m,\u001b[0m\u001b[1;34m\"Theta\"\u001b[0m\u001b[1;33m]\u001b[0m \u001b[1;33m=\u001b[0m \u001b[0mdflink\u001b[0m\u001b[1;33m.\u001b[0m\u001b[0mloc\u001b[0m\u001b[1;33m[\u001b[0m\u001b[0midx\u001b[0m\u001b[1;33m,\u001b[0m\u001b[1;34m\"Theta\"\u001b[0m\u001b[1;33m]\u001b[0m\u001b[1;33m\u001b[0m\u001b[1;33m\u001b[0m\u001b[0m\n",
      "\u001b[1;32m~\\AppData\\Local\\Continuum\\anaconda3\\lib\\site-packages\\pandas\\core\\indexing.py\u001b[0m in \u001b[0;36m__getitem__\u001b[1;34m(self, key)\u001b[0m\n\u001b[0;32m   1486\u001b[0m         \u001b[1;32mif\u001b[0m \u001b[0mtype\u001b[0m\u001b[1;33m(\u001b[0m\u001b[0mkey\u001b[0m\u001b[1;33m)\u001b[0m \u001b[1;32mis\u001b[0m \u001b[0mtuple\u001b[0m\u001b[1;33m:\u001b[0m\u001b[1;33m\u001b[0m\u001b[1;33m\u001b[0m\u001b[0m\n\u001b[0;32m   1487\u001b[0m             key = tuple(com.apply_if_callable(x, self.obj)\n\u001b[1;32m-> 1488\u001b[1;33m                         for x in key)\n\u001b[0m\u001b[0;32m   1489\u001b[0m             \u001b[1;32mtry\u001b[0m\u001b[1;33m:\u001b[0m\u001b[1;33m\u001b[0m\u001b[1;33m\u001b[0m\u001b[0m\n\u001b[0;32m   1490\u001b[0m                 \u001b[1;32mif\u001b[0m \u001b[0mself\u001b[0m\u001b[1;33m.\u001b[0m\u001b[0m_is_scalar_access\u001b[0m\u001b[1;33m(\u001b[0m\u001b[0mkey\u001b[0m\u001b[1;33m)\u001b[0m\u001b[1;33m:\u001b[0m\u001b[1;33m\u001b[0m\u001b[1;33m\u001b[0m\u001b[0m\n",
      "\u001b[1;31mKeyboardInterrupt\u001b[0m: "
     ]
    }
   ],
   "source": [
    "path_to_csvs   = \"C:\\\\Users\\\\krydalch\\\\Desktop\\\\MetMastData\\\\TTU tall tower\\\\\"\n",
    "start_time = '18:20:00'\n",
    "end_time = '18:30:00'\n",
    "master_df = f.get_sonic_met_dat(path_to_csvs, start_time ,end_time)"
   ]
  },
  {
   "cell_type": "code",
   "execution_count": 3,
   "metadata": {},
   "outputs": [
    {
     "data": {
      "text/html": [
       "<div>\n",
       "<style scoped>\n",
       "    .dataframe tbody tr th:only-of-type {\n",
       "        vertical-align: middle;\n",
       "    }\n",
       "\n",
       "    .dataframe tbody tr th {\n",
       "        vertical-align: top;\n",
       "    }\n",
       "\n",
       "    .dataframe thead tr th {\n",
       "        text-align: left;\n",
       "    }\n",
       "</style>\n",
       "<table border=\"1\" class=\"dataframe\">\n",
       "  <thead>\n",
       "    <tr>\n",
       "      <th></th>\n",
       "      <th colspan=\"4\" halign=\"left\">0.9</th>\n",
       "      <th colspan=\"4\" halign=\"left\">2.4</th>\n",
       "      <th colspan=\"2\" halign=\"left\">4.0</th>\n",
       "      <th>...</th>\n",
       "      <th colspan=\"2\" halign=\"left\">116.4</th>\n",
       "      <th colspan=\"4\" halign=\"left\">158.2</th>\n",
       "      <th colspan=\"4\" halign=\"left\">200.0</th>\n",
       "    </tr>\n",
       "    <tr>\n",
       "      <th></th>\n",
       "      <th>Theta</th>\n",
       "      <th>U</th>\n",
       "      <th>V</th>\n",
       "      <th>W</th>\n",
       "      <th>Theta</th>\n",
       "      <th>U</th>\n",
       "      <th>V</th>\n",
       "      <th>W</th>\n",
       "      <th>Theta</th>\n",
       "      <th>U</th>\n",
       "      <th>...</th>\n",
       "      <th>V</th>\n",
       "      <th>W</th>\n",
       "      <th>Theta</th>\n",
       "      <th>U</th>\n",
       "      <th>V</th>\n",
       "      <th>W</th>\n",
       "      <th>Theta</th>\n",
       "      <th>U</th>\n",
       "      <th>V</th>\n",
       "      <th>W</th>\n",
       "    </tr>\n",
       "  </thead>\n",
       "  <tbody>\n",
       "    <tr>\n",
       "      <th>2017-02-17 18:20:00+00:00</th>\n",
       "      <td>-18.150857</td>\n",
       "      <td>4.940305</td>\n",
       "      <td>-1.619596</td>\n",
       "      <td>0.252180</td>\n",
       "      <td>-3.076735</td>\n",
       "      <td>5.462573</td>\n",
       "      <td>-0.293618</td>\n",
       "      <td>-0.221323</td>\n",
       "      <td>-9.536909</td>\n",
       "      <td>7.085921</td>\n",
       "      <td>...</td>\n",
       "      <td>-1.762144</td>\n",
       "      <td>-0.737510</td>\n",
       "      <td>-6.617274</td>\n",
       "      <td>9.174279</td>\n",
       "      <td>-1.064303</td>\n",
       "      <td>-1.153975</td>\n",
       "      <td>-12.630644</td>\n",
       "      <td>8.514173</td>\n",
       "      <td>-1.907925</td>\n",
       "      <td>-0.951671</td>\n",
       "    </tr>\n",
       "    <tr>\n",
       "      <th>2017-02-17 18:20:00.020000+00:00</th>\n",
       "      <td>-17.956429</td>\n",
       "      <td>4.939652</td>\n",
       "      <td>-1.600838</td>\n",
       "      <td>0.352916</td>\n",
       "      <td>-10.094389</td>\n",
       "      <td>5.986199</td>\n",
       "      <td>-1.065700</td>\n",
       "      <td>-0.496287</td>\n",
       "      <td>-9.032848</td>\n",
       "      <td>7.258202</td>\n",
       "      <td>...</td>\n",
       "      <td>-1.543665</td>\n",
       "      <td>-0.798946</td>\n",
       "      <td>-7.489830</td>\n",
       "      <td>9.295305</td>\n",
       "      <td>-1.222072</td>\n",
       "      <td>-0.982622</td>\n",
       "      <td>-12.581076</td>\n",
       "      <td>8.556559</td>\n",
       "      <td>-1.909651</td>\n",
       "      <td>-0.952326</td>\n",
       "    </tr>\n",
       "    <tr>\n",
       "      <th>2017-02-17 18:20:00.040000+00:00</th>\n",
       "      <td>-17.468928</td>\n",
       "      <td>4.784576</td>\n",
       "      <td>-1.505719</td>\n",
       "      <td>-0.105563</td>\n",
       "      <td>-8.820947</td>\n",
       "      <td>6.276680</td>\n",
       "      <td>-0.974031</td>\n",
       "      <td>-0.071766</td>\n",
       "      <td>-6.924730</td>\n",
       "      <td>7.304292</td>\n",
       "      <td>...</td>\n",
       "      <td>-1.562670</td>\n",
       "      <td>-0.819118</td>\n",
       "      <td>-7.801326</td>\n",
       "      <td>9.311581</td>\n",
       "      <td>-1.275747</td>\n",
       "      <td>-1.114735</td>\n",
       "      <td>-11.694684</td>\n",
       "      <td>8.616929</td>\n",
       "      <td>-1.783646</td>\n",
       "      <td>-1.041648</td>\n",
       "    </tr>\n",
       "    <tr>\n",
       "      <th>2017-02-17 18:20:00.060000+00:00</th>\n",
       "      <td>-17.609042</td>\n",
       "      <td>5.057587</td>\n",
       "      <td>-1.605240</td>\n",
       "      <td>0.173830</td>\n",
       "      <td>-8.681534</td>\n",
       "      <td>6.135943</td>\n",
       "      <td>-0.936907</td>\n",
       "      <td>0.074230</td>\n",
       "      <td>-4.467733</td>\n",
       "      <td>7.291368</td>\n",
       "      <td>...</td>\n",
       "      <td>-1.582484</td>\n",
       "      <td>-0.877139</td>\n",
       "      <td>-6.724840</td>\n",
       "      <td>9.247301</td>\n",
       "      <td>-1.090373</td>\n",
       "      <td>-1.167692</td>\n",
       "      <td>-11.861611</td>\n",
       "      <td>8.747635</td>\n",
       "      <td>-1.837295</td>\n",
       "      <td>-1.144303</td>\n",
       "    </tr>\n",
       "    <tr>\n",
       "      <th>2017-02-17 18:20:00.080000+00:00</th>\n",
       "      <td>-16.746681</td>\n",
       "      <td>5.084397</td>\n",
       "      <td>-1.529909</td>\n",
       "      <td>0.306895</td>\n",
       "      <td>-10.338149</td>\n",
       "      <td>6.102510</td>\n",
       "      <td>-1.113212</td>\n",
       "      <td>0.107380</td>\n",
       "      <td>-4.579508</td>\n",
       "      <td>7.240047</td>\n",
       "      <td>...</td>\n",
       "      <td>-1.572547</td>\n",
       "      <td>-0.875619</td>\n",
       "      <td>-7.150292</td>\n",
       "      <td>9.185562</td>\n",
       "      <td>-1.152311</td>\n",
       "      <td>-1.356774</td>\n",
       "      <td>-11.835371</td>\n",
       "      <td>8.810028</td>\n",
       "      <td>-1.846188</td>\n",
       "      <td>-1.205360</td>\n",
       "    </tr>\n",
       "  </tbody>\n",
       "</table>\n",
       "<p>5 rows × 36 columns</p>\n",
       "</div>"
      ],
      "text/plain": [
       "                                      0.9                                  \\\n",
       "                                      Theta         U         V         W   \n",
       "2017-02-17 18:20:00+00:00        -18.150857  4.940305 -1.619596  0.252180   \n",
       "2017-02-17 18:20:00.020000+00:00 -17.956429  4.939652 -1.600838  0.352916   \n",
       "2017-02-17 18:20:00.040000+00:00 -17.468928  4.784576 -1.505719 -0.105563   \n",
       "2017-02-17 18:20:00.060000+00:00 -17.609042  5.057587 -1.605240  0.173830   \n",
       "2017-02-17 18:20:00.080000+00:00 -16.746681  5.084397 -1.529909  0.306895   \n",
       "\n",
       "                                      2.4                                  \\\n",
       "                                      Theta         U         V         W   \n",
       "2017-02-17 18:20:00+00:00         -3.076735  5.462573 -0.293618 -0.221323   \n",
       "2017-02-17 18:20:00.020000+00:00 -10.094389  5.986199 -1.065700 -0.496287   \n",
       "2017-02-17 18:20:00.040000+00:00  -8.820947  6.276680 -0.974031 -0.071766   \n",
       "2017-02-17 18:20:00.060000+00:00  -8.681534  6.135943 -0.936907  0.074230   \n",
       "2017-02-17 18:20:00.080000+00:00 -10.338149  6.102510 -1.113212  0.107380   \n",
       "\n",
       "                                     4.0              ...     116.4            \\\n",
       "                                     Theta         U  ...         V         W   \n",
       "2017-02-17 18:20:00+00:00        -9.536909  7.085921  ... -1.762144 -0.737510   \n",
       "2017-02-17 18:20:00.020000+00:00 -9.032848  7.258202  ... -1.543665 -0.798946   \n",
       "2017-02-17 18:20:00.040000+00:00 -6.924730  7.304292  ... -1.562670 -0.819118   \n",
       "2017-02-17 18:20:00.060000+00:00 -4.467733  7.291368  ... -1.582484 -0.877139   \n",
       "2017-02-17 18:20:00.080000+00:00 -4.579508  7.240047  ... -1.572547 -0.875619   \n",
       "\n",
       "                                     158.2                                \\\n",
       "                                     Theta         U         V         W   \n",
       "2017-02-17 18:20:00+00:00        -6.617274  9.174279 -1.064303 -1.153975   \n",
       "2017-02-17 18:20:00.020000+00:00 -7.489830  9.295305 -1.222072 -0.982622   \n",
       "2017-02-17 18:20:00.040000+00:00 -7.801326  9.311581 -1.275747 -1.114735   \n",
       "2017-02-17 18:20:00.060000+00:00 -6.724840  9.247301 -1.090373 -1.167692   \n",
       "2017-02-17 18:20:00.080000+00:00 -7.150292  9.185562 -1.152311 -1.356774   \n",
       "\n",
       "                                      200.0                                \n",
       "                                      Theta         U         V         W  \n",
       "2017-02-17 18:20:00+00:00        -12.630644  8.514173 -1.907925 -0.951671  \n",
       "2017-02-17 18:20:00.020000+00:00 -12.581076  8.556559 -1.909651 -0.952326  \n",
       "2017-02-17 18:20:00.040000+00:00 -11.694684  8.616929 -1.783646 -1.041648  \n",
       "2017-02-17 18:20:00.060000+00:00 -11.861611  8.747635 -1.837295 -1.144303  \n",
       "2017-02-17 18:20:00.080000+00:00 -11.835371  8.810028 -1.846188 -1.205360  \n",
       "\n",
       "[5 rows x 36 columns]"
      ]
     },
     "execution_count": 3,
     "metadata": {},
     "output_type": "execute_result"
    }
   ],
   "source": [
    "master_df.head()"
   ]
  },
  {
   "cell_type": "code",
   "execution_count": 4,
   "metadata": {},
   "outputs": [
    {
     "data": {
      "text/plain": [
       "MultiIndex(levels=[[0.9, 2.4, 4.0, 10.1, 16.8, 74.7, 116.4, 158.2, 200.0], ['Theta', 'U', 'V', 'W']],\n",
       "           codes=[[0, 0, 0, 0, 1, 1, 1, 1, 2, 2, 2, 2, 3, 3, 3, 3, 4, 4, 4, 4, 5, 5, 5, 5, 6, 6, 6, 6, 7, 7, 7, 7, 8, 8, 8, 8], [0, 1, 2, 3, 0, 1, 2, 3, 0, 1, 2, 3, 0, 1, 2, 3, 0, 1, 2, 3, 0, 1, 2, 3, 0, 1, 2, 3, 0, 1, 2, 3, 0, 1, 2, 3]])"
      ]
     },
     "execution_count": 4,
     "metadata": {},
     "output_type": "execute_result"
    }
   ],
   "source": [
    "master_df.keys()"
   ]
  },
  {
   "cell_type": "code",
   "execution_count": 5,
   "metadata": {},
   "outputs": [
    {
     "data": {
      "text/plain": [
       "MultiIndex(levels=[[0.9, 2.4, 4.0, 10.1, 16.8, 74.7, 116.4, 158.2, 200.0], ['Theta', 'U', 'V', 'W']],\n",
       "           codes=[[0, 0, 0, 0, 1, 1, 1, 1, 2, 2, 2, 2, 3, 3, 3, 3, 4, 4, 4, 4, 5, 5, 5, 5, 6, 6, 6, 6, 7, 7, 7, 7, 8, 8, 8, 8], [0, 1, 2, 3, 0, 1, 2, 3, 0, 1, 2, 3, 0, 1, 2, 3, 0, 1, 2, 3, 0, 1, 2, 3, 0, 1, 2, 3, 0, 1, 2, 3, 0, 1, 2, 3]])"
      ]
     },
     "execution_count": 5,
     "metadata": {},
     "output_type": "execute_result"
    }
   ],
   "source": [
    "master_df.columns"
   ]
  },
  {
   "cell_type": "code",
   "execution_count": 4,
   "metadata": {},
   "outputs": [],
   "source": [
    "from scipy.signal import welch"
   ]
  },
  {
   "cell_type": "code",
   "execution_count": 15,
   "metadata": {},
   "outputs": [],
   "source": [
    "import numpy as np"
   ]
  },
  {
   "cell_type": "code",
   "execution_count": 10,
   "metadata": {},
   "outputs": [],
   "source": [
    "series = master_df[116.4]['U']"
   ]
  },
  {
   "cell_type": "code",
   "execution_count": 20,
   "metadata": {},
   "outputs": [],
   "source": [
    "dt = np.unique(np.round(np.diff((series.index - series.index[0]).total_seconds()),2))[0]"
   ]
  },
  {
   "cell_type": "code",
   "execution_count": 21,
   "metadata": {},
   "outputs": [],
   "source": [
    "fs = 1/dt"
   ]
  },
  {
   "cell_type": "code",
   "execution_count": 23,
   "metadata": {},
   "outputs": [],
   "source": [
    "timeseries = series.values"
   ]
  },
  {
   "cell_type": "code",
   "execution_count": 24,
   "metadata": {},
   "outputs": [],
   "source": [
    "[f,P]=welch(timeseries,fs=fs)"
   ]
  },
  {
   "cell_type": "code",
   "execution_count": 26,
   "metadata": {},
   "outputs": [],
   "source": [
    "import matplotlib.pyplot as plt\n",
    "plt.rc(\"font\",size=14)"
   ]
  },
  {
   "cell_type": "code",
   "execution_count": 28,
   "metadata": {},
   "outputs": [
    {
     "data": {
      "text/plain": [
       "Text(0.5, 0, 'Frequency [Hz]')"
      ]
     },
     "execution_count": 28,
     "metadata": {},
     "output_type": "execute_result"
    },
    {
     "data": {
      "image/png": "[encoded data removed]",
      "text/plain": [
       "<Figure size 504x504 with 1 Axes>"
      ]
     },
     "metadata": {
      "needs_background": "light"
     },
     "output_type": "display_data"
    }
   ],
   "source": [
    "fig = plt.figure(figsize=(7,7))\n",
    "ax  = fig.add_subplot(111)\n",
    "ax.loglog(f,P,'-k')\n",
    "ax.set_xlabel(\"Frequency [Hz]\")\n",
    "ax.set_ylabel(\"PSD []\")"
   ]
  },
  {
   "cell_type": "code",
   "execution_count": null,
   "metadata": {},
   "outputs": [],
   "source": []
  }
 ],
 "metadata": {
  "kernelspec": {
   "display_name": "Python 3",
   "language": "python",
   "name": "python3"
  },
  "language_info": {
   "codemirror_mode": {
    "name": "ipython",
    "version": 3
   },
   "file_extension": ".py",
   "mimetype": "text/x-python",
   "name": "python",
   "nbconvert_exporter": "python",
   "pygments_lexer": "ipython3",
   "version": "3.7.3"
  }
 },
 "nbformat": 4,
 "nbformat_minor": 2
}
