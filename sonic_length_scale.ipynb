{
 "cells": [
  {
   "cell_type": "code",
   "execution_count": 1,
   "metadata": {},
   "outputs": [],
   "source": [
    "%matplotlib inline"
   ]
  },
  {
   "cell_type": "code",
   "execution_count": 2,
   "metadata": {},
   "outputs": [],
   "source": [
    "import pandas as pd\n",
    "import numpy as np\n",
    "from sys import stdout\n",
    "import os, glob\n",
    "from scipy.signal import detrend\n",
    "from scipy import arctan2\n",
    "import functions as f"
   ]
  },
  {
   "cell_type": "code",
   "execution_count": 3,
   "metadata": {},
   "outputs": [],
   "source": [
    "import matplotlib.pyplot as plt"
   ]
  },
  {
   "cell_type": "code",
   "execution_count": 4,
   "metadata": {},
   "outputs": [],
   "source": [
    "path_to_csvs   = \"/Volumes/pdoubraw/repos/jet/data/TTU 200 m tower data/\"\n",
    "path_to_csvs   = \"C:\\\\Users\\\\krydalch\\\\Desktop\\\\MetMastData\\\\TTU tall tower\\\\\"\n",
    "filepaths_dict = f.get_file_paths(path_to_csvs, day=17)"
   ]
  },
  {
   "cell_type": "code",
   "execution_count": 5,
   "metadata": {},
   "outputs": [],
   "source": [
    "height_feet_dict, height_meters_dict, header_names_dict, unique_heights, unique_heights_all = f.get_file_headers(path_to_csvs)"
   ]
  },
  {
   "cell_type": "code",
   "execution_count": 6,
   "metadata": {},
   "outputs": [],
   "source": [
    "year   = 2017 \n",
    "month  = 2\n",
    "day    = 17\n",
    "hour   = 12\n",
    "\n",
    "desired_start = pd.Timestamp(year=year,month=month,day=day,hour=hour,minute=20)\n",
    "desired_end   = desired_start + pd.Timedelta('10min')\n",
    "timestamp_in_filename = desired_start.floor('30min')"
   ]
  },
  {
   "cell_type": "code",
   "execution_count": 7,
   "metadata": {},
   "outputs": [],
   "source": [
    "filenames = sorted(glob.glob(os.path.join(path_to_csvs,'*{0:%Y%m%d}_T{0:%H%M}*'.format(timestamp_in_filename))))"
   ]
  },
  {
   "cell_type": "code",
   "execution_count": 8,
   "metadata": {},
   "outputs": [
    {
     "data": {
      "text/plain": [
       "['C:\\\\Users\\\\krydalch\\\\Desktop\\\\MetMastData\\\\TTU tall tower\\\\FT2_E07_C04_R27880_D20170217_T1200_TR_D01.csv',\n",
       " 'C:\\\\Users\\\\krydalch\\\\Desktop\\\\MetMastData\\\\TTU tall tower\\\\FT2_E07_C04_R27880_D20170217_T1200_TR_D02.csv',\n",
       " 'C:\\\\Users\\\\krydalch\\\\Desktop\\\\MetMastData\\\\TTU tall tower\\\\FT2_E07_C04_R27880_D20170217_T1200_TR_D03.csv',\n",
       " 'C:\\\\Users\\\\krydalch\\\\Desktop\\\\MetMastData\\\\TTU tall tower\\\\FT2_E07_C04_R27880_D20170217_T1200_TR_D04.csv']"
      ]
     },
     "execution_count": 8,
     "metadata": {},
     "output_type": "execute_result"
    }
   ],
   "source": [
    "filenames"
   ]
  },
  {
   "cell_type": "code",
   "execution_count": 9,
   "metadata": {},
   "outputs": [
    {
     "name": "stdout",
     "output_type": "stream",
     "text": [
      "C:\\Users\\krydalch\\Desktop\\MetMastData\\TTU tall tower\\FT2_E07_C04_R27880_D20170217_T1200_TR_D01.csv\n",
      "C:\\Users\\krydalch\\Desktop\\MetMastData\\TTU tall tower\\FT2_E07_C04_R27880_D20170217_T1200_TR_D02.csv\n",
      "C:\\Users\\krydalch\\Desktop\\MetMastData\\TTU tall tower\\FT2_E07_C04_R27880_D20170217_T1200_TR_D03.csv\n",
      "C:\\Users\\krydalch\\Desktop\\MetMastData\\TTU tall tower\\FT2_E07_C04_R27880_D20170217_T1200_TR_D04.csv\n"
     ]
    }
   ],
   "source": [
    "perturbations = {}\n",
    "\n",
    "for filepath in filenames:\n",
    "\n",
    "    group = int(os.path.split(filepath)[-1].split('TR_D')[-1].split('.csv')[0])\n",
    "\n",
    "    print(filepath)\n",
    "        \n",
    "    df           = f.csv_to_df(filepath, header_names_dict[group])  \n",
    "    subdf        = f.subset_df(df)\n",
    "    df_dict      = f.df_to_df_dict(subdf)\n",
    "\n",
    "    df_dict_rot  = f.rotate_df_dict(df_dict)\n",
    "    df_dict_pert = f.compute_perturbations(df_dict_rot)\n",
    "    \n",
    "    for height in df_dict_pert.keys():\n",
    "\n",
    "        perturbations[height] = df_dict_pert[height].loc[desired_start:desired_end].copy()"
   ]
  },
  {
   "cell_type": "code",
   "execution_count": 10,
   "metadata": {},
   "outputs": [
    {
     "name": "stderr",
     "output_type": "stream",
     "text": [
      "C:\\Users\\krydalch\\AppData\\Local\\Continuum\\anaconda3\\lib\\site-packages\\ipykernel_launcher.py:1: FutureWarning: Creating a DatetimeIndex by passing range endpoints is deprecated.  Use `pandas.date_range` instead.\n",
      "  \"\"\"Entry point for launching an IPython kernel.\n"
     ]
    }
   ],
   "source": [
    "desired_index = pd.DatetimeIndex(start=desired_start, end=desired_end, freq='20ms').tz_localize('UTC')"
   ]
  },
  {
   "cell_type": "code",
   "execution_count": 11,
   "metadata": {},
   "outputs": [],
   "source": [
    "for height in perturbations.keys():\n",
    "    perturbations[height] = perturbations[height].reindex(desired_index).interpolate(method='index').iloc[0:30000].copy()"
   ]
  },
  {
   "cell_type": "code",
   "execution_count": 12,
   "metadata": {},
   "outputs": [
    {
     "name": "stdout",
     "output_type": "stream",
     "text": [
      "3.0\n"
     ]
    },
    {
     "name": "stderr",
     "output_type": "stream",
     "text": [
      "C:\\Users\\krydalch\\AppData\\Local\\Continuum\\anaconda3\\lib\\site-packages\\numpy\\lib\\function_base.py:2522: RuntimeWarning: Degrees of freedom <= 0 for slice\n",
      "  c = cov(x, y, rowvar)\n",
      "C:\\Users\\krydalch\\AppData\\Local\\Continuum\\anaconda3\\lib\\site-packages\\numpy\\lib\\function_base.py:2451: RuntimeWarning: divide by zero encountered in true_divide\n",
      "  c *= np.true_divide(1, fact)\n",
      "C:\\Users\\krydalch\\AppData\\Local\\Continuum\\anaconda3\\lib\\site-packages\\ipykernel_launcher.py:23: RuntimeWarning: invalid value encountered in less\n"
     ]
    },
    {
     "name": "stdout",
     "output_type": "stream",
     "text": [
      "8.0\n",
      "13.0\n",
      "33.0\n",
      "55.0\n",
      "155.0\n",
      "382.0\n",
      "519.0\n",
      "656.0\n"
     ]
    }
   ],
   "source": [
    "timescale = {}\n",
    "\n",
    "for height in perturbations.keys():\n",
    "\n",
    "    print(height)\n",
    "    \n",
    "    u     = perturbations[height].U\n",
    "    uvals = u.values\n",
    "    uidx  = u.index\n",
    "    \n",
    "    # the 10 segments are accessed by e.g., u_segments[isegment,:]\n",
    "    segments = np.reshape(uvals,[10,3000])\n",
    "\n",
    "    for iseg in range(10):\n",
    "        series = pd.Series(segments[iseg,:])    \n",
    "        rt = np.array([ series.autocorr(i) for i in range(3000) ])\n",
    "        if iseg==0:\n",
    "            r = rt.copy()\n",
    "        else:\n",
    "            r = r + rt    \n",
    "    autocorr = r/float(iseg+1)\n",
    "\n",
    "    firstNegIdx = (np.where(autocorr<0))[0][0]\n",
    "    y = autocorr[0:firstNegIdx]\n",
    "    x = (uidx-uidx[0]).total_seconds()[0:firstNegIdx]\n",
    "    timescale[height] = np.trapz(y, x)"
   ]
  },
  {
   "cell_type": "code",
   "execution_count": null,
   "metadata": {},
   "outputs": [],
   "source": []
  },
  {
   "cell_type": "code",
   "execution_count": 13,
   "metadata": {},
   "outputs": [
    {
     "name": "stdout",
     "output_type": "stream",
     "text": [
      "0.9144000000000001\n",
      "2.4384\n",
      "3.9624\n",
      "10.0584\n",
      "16.764\n",
      "47.244\n",
      "116.43360000000001\n",
      "158.1912\n",
      "199.9488\n"
     ]
    }
   ],
   "source": [
    "mean_u = {}\n",
    "\n",
    "for height in perturbations.keys():\n",
    "    b = height*0.3048\n",
    "    print(b ) \n",
    "    mean_u[height]     = perturbations[height].U.mean()"
   ]
  },
  {
   "cell_type": "code",
   "execution_count": 14,
   "metadata": {},
   "outputs": [
    {
     "data": {
      "text/plain": [
       "3.0        8.101208\n",
       "8.0        8.714289\n",
       "13.0       7.980271\n",
       "33.0       9.770049\n",
       "55.0      11.786363\n",
       "155.0     13.399621\n",
       "382.0     30.976991\n",
       "519.0    111.210926\n",
       "656.0     67.388044\n",
       "dtype: float64"
      ]
     },
     "execution_count": 14,
     "metadata": {},
     "output_type": "execute_result"
    }
   ],
   "source": [
    "(pd.Series(timescale) * pd.Series(mean_u))"
   ]
  },
  {
   "cell_type": "code",
   "execution_count": null,
   "metadata": {},
   "outputs": [],
   "source": []
  },
  {
   "cell_type": "code",
   "execution_count": null,
   "metadata": {},
   "outputs": [],
   "source": []
  }
 ],
 "metadata": {
  "kernelspec": {
   "display_name": "Python 3",
   "language": "python",
   "name": "python3"
  },
  "language_info": {
   "codemirror_mode": {
    "name": "ipython",
    "version": 3
   },
   "file_extension": ".py",
   "mimetype": "text/x-python",
   "name": "python",
   "nbconvert_exporter": "python",
   "pygments_lexer": "ipython3",
   "version": "3.7.3"
  }
 },
 "nbformat": 4,
 "nbformat_minor": 2
}
