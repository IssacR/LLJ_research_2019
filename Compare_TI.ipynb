{
 "cells": [
  {
   "cell_type": "code",
   "execution_count": 1,
   "metadata": {},
   "outputs": [],
   "source": [
    "import sys\n",
    "sys.path.append(\"/Volumes/pdoubraw-1/repos/ABLTools/python/\")\n",
    "sys.path.append(\"C:/Users/krydalch/Documents/Repos/ABLtools_python/\")\n",
    "import numpy as np\n",
    "import matplotlib.pyplot as plt\n",
    "import stochasticTurbulenceTools as stt\n",
    "import glob, os\n",
    "import pandas as pd\n",
    "import functions as f\n",
    "\n",
    "sys.path.append(\"C:/Users/krydalch/Documents/Repos/\")\n",
    "from datatools import wfip2\n",
    "from datatools.remote_sensing import scintec_profiler\n",
    "\n",
    "\n",
    "plt.rc(\"font\",size=14)"
   ]
  },
  {
   "cell_type": "markdown",
   "metadata": {},
   "source": [
    "# Input Data sets: (TurbSim.bts, UTS_input_file, True Sonic Data)"
   ]
  },
  {
   "cell_type": "code",
   "execution_count": null,
   "metadata": {},
   "outputs": [],
   "source": [
    "kir_ts = stt.stochasticTurbulence(\"TurbSim\")\n",
    "#kir_ts.readBTS(\"/Users/pdoubraw/Downloads/\")\n",
    "kir_ts.readBTS(\"C:/Users/krydalch/Desktop/TurbSim/MyOutputFiles/LLJ/1440_1450_rand1_USR2pts/\")"
   ]
  },
  {
   "cell_type": "code",
   "execution_count": null,
   "metadata": {},
   "outputs": [],
   "source": [
    "one_USR = stt.stochasticTurbulence(\"TurbSim\")\n",
    "#kir_ts.readBTS(\"/Users/pdoubraw/Downloads/\")\n",
    "one_USR.readBTS(\"C:/Users/krydalch/Desktop/TurbSim/MyOutputFiles/LLJ/1440_1450_rand1_USR1pts/\")"
   ]
  },
  {
   "cell_type": "code",
   "execution_count": 2,
   "metadata": {},
   "outputs": [
    {
     "name": "stdout",
     "output_type": "stream",
     "text": [
      "Opening file C:/Users/krydalch/Desktop/TurbSim/MyOutputFiles/LLJ/1440_1450_rand1_USRall/TurbSim.bts...\n"
     ]
    },
    {
     "ename": "error",
     "evalue": "unpack requires a buffer of 16 bytes",
     "output_type": "error",
     "traceback": [
      "\u001b[1;31m---------------------------------------------------------------------------\u001b[0m",
      "\u001b[1;31merror\u001b[0m                                     Traceback (most recent call last)",
      "\u001b[1;32m<ipython-input-2-990baf216125>\u001b[0m in \u001b[0;36m<module>\u001b[1;34m\u001b[0m\n\u001b[0;32m      1\u001b[0m \u001b[0mall_USR\u001b[0m \u001b[1;33m=\u001b[0m \u001b[0mstt\u001b[0m\u001b[1;33m.\u001b[0m\u001b[0mstochasticTurbulence\u001b[0m\u001b[1;33m(\u001b[0m\u001b[1;34m\"TurbSim\"\u001b[0m\u001b[1;33m)\u001b[0m\u001b[1;33m\u001b[0m\u001b[1;33m\u001b[0m\u001b[0m\n\u001b[0;32m      2\u001b[0m \u001b[1;31m#kir_ts.readBTS(\"/Users/pdoubraw/Downloads/\")\u001b[0m\u001b[1;33m\u001b[0m\u001b[1;33m\u001b[0m\u001b[1;33m\u001b[0m\u001b[0m\n\u001b[1;32m----> 3\u001b[1;33m \u001b[0mall_USR\u001b[0m\u001b[1;33m.\u001b[0m\u001b[0mreadBTS\u001b[0m\u001b[1;33m(\u001b[0m\u001b[1;34m\"C:/Users/krydalch/Desktop/TurbSim/MyOutputFiles/LLJ/1440_1450_rand1_USRall/\"\u001b[0m\u001b[1;33m)\u001b[0m\u001b[1;33m\u001b[0m\u001b[1;33m\u001b[0m\u001b[0m\n\u001b[0m",
      "\u001b[1;32mC:/Users/krydalch/Documents/Repos/ABLtools_python\\stochasticTurbulenceTools.py\u001b[0m in \u001b[0;36mreadBTS\u001b[1;34m(self, pathToBinary)\u001b[0m\n\u001b[0;32m    284\u001b[0m \u001b[1;33m\u001b[0m\u001b[0m\n\u001b[0;32m    285\u001b[0m             \u001b[0mself\u001b[0m\u001b[1;33m.\u001b[0m\u001b[0mnZ\u001b[0m\u001b[1;33m,\u001b[0m \u001b[0mself\u001b[0m\u001b[1;33m.\u001b[0m\u001b[0mnY\u001b[0m\u001b[1;33m,\u001b[0m \u001b[0mself\u001b[0m\u001b[1;33m.\u001b[0m\u001b[0mnTower\u001b[0m\u001b[1;33m,\u001b[0m \u001b[0mself\u001b[0m\u001b[1;33m.\u001b[0m\u001b[0mnTimeSteps\u001b[0m \u001b[1;33m=\u001b[0m\u001b[0;31m \u001b[0m\u001b[0;31m\\\u001b[0m\u001b[1;33m\u001b[0m\u001b[1;33m\u001b[0m\u001b[0m\n\u001b[1;32m--> 286\u001b[1;33m                                     \u001b[0mstruct\u001b[0m\u001b[1;33m.\u001b[0m\u001b[0munpack\u001b[0m\u001b[1;33m(\u001b[0m\u001b[1;34m'i'\u001b[0m\u001b[1;33m*\u001b[0m\u001b[1;36m4\u001b[0m\u001b[1;33m,\u001b[0m\u001b[0mfileContent\u001b[0m\u001b[1;33m[\u001b[0m\u001b[1;36m2\u001b[0m\u001b[1;33m:\u001b[0m\u001b[1;36m18\u001b[0m\u001b[1;33m]\u001b[0m\u001b[1;33m)\u001b[0m\u001b[1;33m\u001b[0m\u001b[1;33m\u001b[0m\u001b[0m\n\u001b[0m\u001b[0;32m    287\u001b[0m             \u001b[0mself\u001b[0m\u001b[1;33m.\u001b[0m\u001b[0mdZ\u001b[0m\u001b[1;33m,\u001b[0m \u001b[0mself\u001b[0m\u001b[1;33m.\u001b[0m\u001b[0mdY\u001b[0m\u001b[1;33m,\u001b[0m \u001b[0mself\u001b[0m\u001b[1;33m.\u001b[0m\u001b[0mdT\u001b[0m\u001b[1;33m,\u001b[0m \u001b[0mself\u001b[0m\u001b[1;33m.\u001b[0m\u001b[0muHub\u001b[0m\u001b[1;33m,\u001b[0m \u001b[0mself\u001b[0m\u001b[1;33m.\u001b[0m\u001b[0mzHub\u001b[0m\u001b[1;33m,\u001b[0m \u001b[0mself\u001b[0m\u001b[1;33m.\u001b[0m\u001b[0mzBot\u001b[0m \u001b[1;33m=\u001b[0m\u001b[0;31m \u001b[0m\u001b[0;31m\\\u001b[0m\u001b[1;33m\u001b[0m\u001b[1;33m\u001b[0m\u001b[0m\n\u001b[0;32m    288\u001b[0m                                     \u001b[0mstruct\u001b[0m\u001b[1;33m.\u001b[0m\u001b[0munpack\u001b[0m\u001b[1;33m(\u001b[0m\u001b[1;34m'f'\u001b[0m\u001b[1;33m*\u001b[0m\u001b[1;36m6\u001b[0m\u001b[1;33m,\u001b[0m\u001b[0mfileContent\u001b[0m\u001b[1;33m[\u001b[0m\u001b[1;36m18\u001b[0m\u001b[1;33m:\u001b[0m\u001b[1;36m42\u001b[0m\u001b[1;33m]\u001b[0m\u001b[1;33m)\u001b[0m\u001b[1;33m\u001b[0m\u001b[1;33m\u001b[0m\u001b[0m\n",
      "\u001b[1;31merror\u001b[0m: unpack requires a buffer of 16 bytes"
     ]
    }
   ],
   "source": [
    "all_USR = stt.stochasticTurbulence(\"TurbSim\")\n",
    "#kir_ts.readBTS(\"/Users/pdoubraw/Downloads/\")\n",
    "all_USR.readBTS(\"C:/Users/krydalch/Desktop/TurbSim/MyOutputFiles/LLJ/1440_1450_rand1_USRall/\")"
   ]
  },
  {
   "cell_type": "code",
   "execution_count": null,
   "metadata": {},
   "outputs": [],
   "source": [
    "df_sonic = pd.read_csv('UTS_1440_1450.txt', sep='\\t', header=None)"
   ]
  },
  {
   "cell_type": "code",
   "execution_count": null,
   "metadata": {},
   "outputs": [],
   "source": [
    "path_to_csvs   = \"C:\\\\Users\\\\krydalch\\\\Desktop\\\\MetMastData\\\\TTU tall tower\\\\\"\n",
    "start_time = '14:40:00'\n",
    "end_time = '14:50:00'\n",
    "master_df = f.get_sonic_met_dat(path_to_csvs, start_time ,end_time)"
   ]
  },
  {
   "cell_type": "code",
   "execution_count": null,
   "metadata": {},
   "outputs": [],
   "source": [
    "heights_in_USR = [116.4, 158.2]\n",
    "u ={}\n",
    "v = {}\n",
    "w = {}\n",
    "\n",
    "ti =[]\n",
    "\n",
    "#kir_ts\n",
    "us = range(1,5,3)\n",
    "heights = [116.4, 158.2]\n",
    "time = df_sonic.loc[:,0]\n",
    "i = 0\n",
    "###########3 Read in Text File #################3\n",
    "for u_h in us:\n",
    "    u[heights[i]] = df_sonic[u_h]\n",
    "    v[heights[i]] = df_sonic[u_h+1]\n",
    "    w[heights[i]] = df_sonic[u_h+2]\n",
    "    \n",
    "    uu = np.sqrt((df_sonic[u_h] - df_sonic[u_h].mean())**2)\n",
    "    \n",
    "    ti_s = (uu/ df_sonic[u_h].mean()).mean()\n",
    "\n",
    "    ti = np.append(ti,ti_s)\n",
    "    i = i +1\n",
    "\n",
    "########### TurbSim 1 ################\n",
    "TI_turb = kir_ts.TI()\n",
    "Ti_hub = TI_turb[kir_ts.jHub, :]\n",
    "########### TurbSim 1 ################\n",
    "TI_turb_2 = one_USR.TI()\n",
    "Ti_hub_2 = TI_turb_2[one_USR.jHub, :]\n",
    "# ########### TurbSim 1 ################\n",
    "# TI_turb_3 = all_USR .TI()\n",
    "# Ti_hub_3 = TI_turb_3[all_USR.jHub, :]\n",
    "\n",
    "###########3 True Sonic Data ###########3\n",
    "temp_df = master_df.copy()\n",
    "TI_master= []\n",
    "heights_mstr = [0.9, 2.4, 4.0, 10.1, 16.8, 74.7, 116.4, 158.2, 200.0]\n",
    "for h in heights_mstr:\n",
    "    u_m = temp_df[h]['U']\n",
    "    uu_m = np.sqrt((u_m - u_m.mean())**2)\n",
    "    ti_m = (uu_m / u_m.mean()).mean()\n",
    "    \n",
    "    TI_master = np.append(TI_master,ti_m)\n",
    "\n",
    "########################################3\n",
    "\n",
    "\n",
    "\n",
    "fig = plt.figure(figsize=(12,9))\n",
    "plt.plot(Ti_hub_2,one_USR.z,label = 'TurbSim, 1 points[115.0]')\n",
    "#plt.plot(Ti_hub_3,all_USR.z,label = 'TurbSim, 4 points[16.8, 47.2, 115.0, 158.2, 200]')\n",
    "plt.plot(Ti_hub,kir_ts.z,label = 'TurbSim, 2 points[115.0, 158.2]')\n",
    "#plt.plot(ti,heights,label= 'UTS')\n",
    "plt.plot(TI_master,heights_mstr,'p--k', label ='Sonic Raw')\n",
    "\n",
    "plt.legend()\n",
    "plt.title(\"TI average throughout simulation\")\n",
    "plt.xlabel(\"TI\")\n",
    "plt.ylabel(\"Z [m]\")\n",
    "fig.savefig(\"../TurbSim_UTSinputs_one.png\",bbox_inches=\"tight\",dpi=500)"
   ]
  },
  {
   "cell_type": "code",
   "execution_count": null,
   "metadata": {},
   "outputs": [],
   "source": []
  }
 ],
 "metadata": {
  "kernelspec": {
   "display_name": "Python 3",
   "language": "python",
   "name": "python3"
  },
  "language_info": {
   "codemirror_mode": {
    "name": "ipython",
    "version": 3
   },
   "file_extension": ".py",
   "mimetype": "text/x-python",
   "name": "python",
   "nbconvert_exporter": "python",
   "pygments_lexer": "ipython3",
   "version": "3.7.3"
  }
 },
 "nbformat": 4,
 "nbformat_minor": 2
}
