{
 "cells": [
  {
   "cell_type": "code",
   "execution_count": 1,
   "metadata": {},
   "outputs": [],
   "source": [
    "%matplotlib inline"
   ]
  },
  {
   "cell_type": "code",
   "execution_count": 2,
   "metadata": {},
   "outputs": [],
   "source": [
    "import pandas as pd\n",
    "import numpy as np\n",
    "from sys import stdout\n",
    "import os, glob\n",
    "from scipy.signal import detrend\n",
    "from scipy import arctan2\n",
    "import functions as f"
   ]
  },
  {
   "cell_type": "code",
   "execution_count": 3,
   "metadata": {},
   "outputs": [],
   "source": [
    "import matplotlib.pyplot as plt"
   ]
  },
  {
   "cell_type": "code",
   "execution_count": 4,
   "metadata": {},
   "outputs": [],
   "source": [
    "path_to_csvs   = \"/Volumes/pdoubraw-1/repos/jet/data/TTU 200 m tower data/\"\n",
    "path_to_csvs   = \"C:\\\\Users\\\\krydalch\\\\Desktop\\\\MetMastData\\\\TTU tall tower\\\\\"\n",
    "filepaths_dict = f.get_file_paths(path_to_csvs, day=17)"
   ]
  },
  {
   "cell_type": "code",
   "execution_count": 5,
   "metadata": {},
   "outputs": [],
   "source": [
    "height_feet_dict, height_meters_dict, header_names_dict, unique_heights, unique_heights_all = f.get_file_headers(path_to_csvs)"
   ]
  },
  {
   "cell_type": "code",
   "execution_count": 6,
   "metadata": {},
   "outputs": [],
   "source": [
    "u = {}\n",
    "v = {}\n",
    "w = {}"
   ]
  },
  {
   "cell_type": "code",
   "execution_count": 7,
   "metadata": {},
   "outputs": [],
   "source": [
    "year   = 2017 \n",
    "month  = 2\n",
    "day    = 17\n",
    "hour   = 14    \n",
    "minute = 40"
   ]
  },
  {
   "cell_type": "code",
   "execution_count": 8,
   "metadata": {},
   "outputs": [
    {
     "name": "stdout",
     "output_type": "stream",
     "text": [
      "C:\\Users\\krydalch\\Desktop\\MetMastData\\TTU tall tower\\FT2_E07_C04_R27885_D20170217_T1430_TR_D01.csv\n"
     ]
    },
    {
     "ename": "TypeError",
     "evalue": "cannot compare a dtyped [float64] array with a scalar of type [bool]",
     "output_type": "error",
     "traceback": [
      "\u001b[1;31m---------------------------------------------------------------------------\u001b[0m",
      "\u001b[1;31mTypeError\u001b[0m                                 Traceback (most recent call last)",
      "\u001b[1;32m~\\AppData\\Local\\Continuum\\anaconda3\\lib\\site-packages\\pandas\\core\\ops.py\u001b[0m in \u001b[0;36mna_op\u001b[1;34m(x, y)\u001b[0m\n\u001b[0;32m   1788\u001b[0m         \u001b[1;32mtry\u001b[0m\u001b[1;33m:\u001b[0m\u001b[1;33m\u001b[0m\u001b[1;33m\u001b[0m\u001b[0m\n\u001b[1;32m-> 1789\u001b[1;33m             \u001b[0mresult\u001b[0m \u001b[1;33m=\u001b[0m \u001b[0mop\u001b[0m\u001b[1;33m(\u001b[0m\u001b[0mx\u001b[0m\u001b[1;33m,\u001b[0m \u001b[0my\u001b[0m\u001b[1;33m)\u001b[0m\u001b[1;33m\u001b[0m\u001b[1;33m\u001b[0m\u001b[0m\n\u001b[0m\u001b[0;32m   1790\u001b[0m         \u001b[1;32mexcept\u001b[0m \u001b[0mTypeError\u001b[0m\u001b[1;33m:\u001b[0m\u001b[1;33m\u001b[0m\u001b[1;33m\u001b[0m\u001b[0m\n",
      "\u001b[1;31mTypeError\u001b[0m: ufunc 'bitwise_xor' not supported for the input types, and the inputs could not be safely coerced to any supported types according to the casting rule ''safe''",
      "\nDuring handling of the above exception, another exception occurred:\n",
      "\u001b[1;31mValueError\u001b[0m                                Traceback (most recent call last)",
      "\u001b[1;32m~\\AppData\\Local\\Continuum\\anaconda3\\lib\\site-packages\\pandas\\core\\ops.py\u001b[0m in \u001b[0;36mna_op\u001b[1;34m(x, y)\u001b[0m\n\u001b[0;32m   1803\u001b[0m                 \u001b[1;32mtry\u001b[0m\u001b[1;33m:\u001b[0m\u001b[1;33m\u001b[0m\u001b[1;33m\u001b[0m\u001b[0m\n\u001b[1;32m-> 1804\u001b[1;33m                     \u001b[0mresult\u001b[0m \u001b[1;33m=\u001b[0m \u001b[0mlibops\u001b[0m\u001b[1;33m.\u001b[0m\u001b[0mscalar_binop\u001b[0m\u001b[1;33m(\u001b[0m\u001b[0mx\u001b[0m\u001b[1;33m,\u001b[0m \u001b[0my\u001b[0m\u001b[1;33m,\u001b[0m \u001b[0mop\u001b[0m\u001b[1;33m)\u001b[0m\u001b[1;33m\u001b[0m\u001b[1;33m\u001b[0m\u001b[0m\n\u001b[0m\u001b[0;32m   1805\u001b[0m                 except (TypeError, ValueError, AttributeError,\n",
      "\u001b[1;32mpandas/_libs/ops.pyx\u001b[0m in \u001b[0;36mpandas._libs.ops.scalar_binop\u001b[1;34m()\u001b[0m\n",
      "\u001b[1;31mValueError\u001b[0m: Buffer dtype mismatch, expected 'Python object' but got 'double'",
      "\nDuring handling of the above exception, another exception occurred:\n",
      "\u001b[1;31mTypeError\u001b[0m                                 Traceback (most recent call last)",
      "\u001b[1;32m<ipython-input-8-0db6af17b3cb>\u001b[0m in \u001b[0;36m<module>\u001b[1;34m\u001b[0m\n\u001b[0;32m     23\u001b[0m \u001b[1;33m\u001b[0m\u001b[0m\n\u001b[0;32m     24\u001b[0m     \u001b[0mdf_dict_rot\u001b[0m  \u001b[1;33m=\u001b[0m \u001b[0mf\u001b[0m\u001b[1;33m.\u001b[0m\u001b[0mrotate_df_dict\u001b[0m\u001b[1;33m(\u001b[0m\u001b[0mdf_dict\u001b[0m\u001b[1;33m,\u001b[0m\u001b[0mRotMatrix\u001b[0m\u001b[1;33m)\u001b[0m\u001b[1;33m\u001b[0m\u001b[1;33m\u001b[0m\u001b[0m\n\u001b[1;32m---> 25\u001b[1;33m     \u001b[0mdf_dict_pert\u001b[0m \u001b[1;33m=\u001b[0m \u001b[0mf\u001b[0m\u001b[1;33m.\u001b[0m\u001b[0mcompute_perturbations\u001b[0m\u001b[1;33m(\u001b[0m\u001b[0mdf_dict_rot\u001b[0m\u001b[1;33m)\u001b[0m\u001b[1;33m\u001b[0m\u001b[1;33m\u001b[0m\u001b[0m\n\u001b[0m\u001b[0;32m     26\u001b[0m \u001b[1;33m\u001b[0m\u001b[0m\n\u001b[0;32m     27\u001b[0m     \u001b[1;32mfor\u001b[0m \u001b[0mheight\u001b[0m \u001b[1;32min\u001b[0m \u001b[0mdf_dict_pert\u001b[0m\u001b[1;33m.\u001b[0m\u001b[0mkeys\u001b[0m\u001b[1;33m(\u001b[0m\u001b[1;33m)\u001b[0m\u001b[1;33m:\u001b[0m\u001b[1;33m\u001b[0m\u001b[1;33m\u001b[0m\u001b[0m\n",
      "\u001b[1;32m~\\Desktop\\MetMastData\\Code\\Fresh\\rydalch\\functions.py\u001b[0m in \u001b[0;36mcompute_perturbations\u001b[1;34m(df_dict, detrend_series)\u001b[0m\n\u001b[0;32m    190\u001b[0m         \u001b[0mwprime\u001b[0m \u001b[1;33m=\u001b[0m \u001b[0mdflink\u001b[0m\u001b[1;33m.\u001b[0m\u001b[0mW\u001b[0m\u001b[1;33m-\u001b[0m\u001b[0mdflink\u001b[0m\u001b[1;33m.\u001b[0m\u001b[0mW\u001b[0m\u001b[1;33m.\u001b[0m\u001b[0mmean\u001b[0m\u001b[1;33m(\u001b[0m\u001b[1;33m)\u001b[0m\u001b[1;33m\u001b[0m\u001b[1;33m\u001b[0m\u001b[0m\n\u001b[0;32m    191\u001b[0m \u001b[1;33m\u001b[0m\u001b[0m\n\u001b[1;32m--> 192\u001b[1;33m         \u001b[0mti\u001b[0m \u001b[1;33m=\u001b[0m \u001b[0mnp\u001b[0m\u001b[1;33m.\u001b[0m\u001b[0msqrt\u001b[0m\u001b[1;33m(\u001b[0m\u001b[0muprime\u001b[0m\u001b[1;33m^\u001b[0m\u001b[1;36m2\u001b[0m\u001b[1;33m)\u001b[0m\u001b[1;33m\u001b[0m\u001b[1;33m\u001b[0m\u001b[0m\n\u001b[0m\u001b[0;32m    193\u001b[0m         \u001b[1;31m#ti = np.sqrt(uprime^2)/dflink.U.mean()\u001b[0m\u001b[1;33m\u001b[0m\u001b[1;33m\u001b[0m\u001b[1;33m\u001b[0m\u001b[0m\n\u001b[0;32m    194\u001b[0m \u001b[1;33m\u001b[0m\u001b[0m\n",
      "\u001b[1;32m~\\AppData\\Local\\Continuum\\anaconda3\\lib\\site-packages\\pandas\\core\\ops.py\u001b[0m in \u001b[0;36mwrapper\u001b[1;34m(self, other)\u001b[0m\n\u001b[0;32m   1848\u001b[0m         filler = (fill_int if is_self_int_dtype and is_other_int_dtype\n\u001b[0;32m   1849\u001b[0m                   else fill_bool)\n\u001b[1;32m-> 1850\u001b[1;33m         \u001b[0mres_values\u001b[0m \u001b[1;33m=\u001b[0m \u001b[0mna_op\u001b[0m\u001b[1;33m(\u001b[0m\u001b[0mself\u001b[0m\u001b[1;33m.\u001b[0m\u001b[0mvalues\u001b[0m\u001b[1;33m,\u001b[0m \u001b[0movalues\u001b[0m\u001b[1;33m)\u001b[0m\u001b[1;33m\u001b[0m\u001b[1;33m\u001b[0m\u001b[0m\n\u001b[0m\u001b[0;32m   1851\u001b[0m         unfilled = self._constructor(res_values,\n\u001b[0;32m   1852\u001b[0m                                      index=self.index, name=res_name)\n",
      "\u001b[1;32m~\\AppData\\Local\\Continuum\\anaconda3\\lib\\site-packages\\pandas\\core\\ops.py\u001b[0m in \u001b[0;36mna_op\u001b[1;34m(x, y)\u001b[0m\n\u001b[0;32m   1808\u001b[0m                                     \u001b[1;34m\"with a scalar of type [{typ}]\"\u001b[0m\u001b[1;33m\u001b[0m\u001b[1;33m\u001b[0m\u001b[0m\n\u001b[0;32m   1809\u001b[0m                                     .format(dtype=x.dtype,\n\u001b[1;32m-> 1810\u001b[1;33m                                             typ=type(y).__name__))\n\u001b[0m\u001b[0;32m   1811\u001b[0m \u001b[1;33m\u001b[0m\u001b[0m\n\u001b[0;32m   1812\u001b[0m         \u001b[1;32mreturn\u001b[0m \u001b[0mresult\u001b[0m\u001b[1;33m\u001b[0m\u001b[1;33m\u001b[0m\u001b[0m\n",
      "\u001b[1;31mTypeError\u001b[0m: cannot compare a dtyped [float64] array with a scalar of type [bool]"
     ]
    }
   ],
   "source": [
    "\n",
    "\n",
    "desired_start = pd.Timestamp(year=year,month=month,day=day,hour=hour,minute=minute)\n",
    "desired_end   = desired_start + pd.Timedelta('10min')\n",
    "timestamp_in_filename = desired_start.floor('30min')\n",
    "\n",
    "filenames = sorted(glob.glob(os.path.join(path_to_csvs,'*{0:%Y%m%d}_T{0:%H%M}*'.format(timestamp_in_filename))))\n",
    "\n",
    "perturbations = {}\n",
    "\n",
    "\n",
    "RotMatrix, boom_azm_deg, boom_vert_deg = f.get_boom_tower_angles(path_to_csvs)\n",
    "\n",
    "for filepath in filenames:\n",
    "\n",
    "    group = int(os.path.split(filepath)[-1].split('TR_D')[-1].split('.csv')[0])\n",
    "\n",
    "    print(filepath)\n",
    "\n",
    "    df           = f.csv_to_df(filepath, header_names_dict[group])  \n",
    "    subdf        = f.subset_df(df)\n",
    "    df_dict      = f.df_to_df_dict(subdf)\n",
    "\n",
    "    df_dict_rot  = f.rotate_df_dict(df_dict,RotMatrix)\n",
    "    df_dict_pert = f.compute_perturbations(df_dict_rot)\n",
    "\n",
    "    for height in df_dict_pert.keys():\n",
    "\n",
    "        perturbations[height] = df_dict_pert[height].loc[desired_start:desired_end].copy()\n",
    "\n",
    "desired_index = pd.DatetimeIndex(start=desired_start, end=desired_end, freq='20ms').tz_localize('UTC')\n",
    "\n",
    "for height in perturbations.keys():\n",
    "    perturbations[height] = perturbations[height].reindex(desired_index).interpolate(method='index').iloc[0:30000].copy()\n",
    "\n",
    "u[minute] = perturbations[382.0].U.copy()\n",
    "v[minute] = perturbations[382.0].V.copy()\n",
    "w[minute] = perturbations[382.0].V.copy()\n",
    "    \n",
    "    "
   ]
  },
  {
   "cell_type": "code",
   "execution_count": null,
   "metadata": {},
   "outputs": [],
   "source": [
    "fig = plt.figure(figsize=(12,4))\n",
    "ax  = fig.add_subplot(111)\n",
    "\n",
    "for key in u.keys():\n",
    "    utmp = u[key].resample('1s').mean().copy()\n",
    "    t    = (utmp.index - utmp.index[0]).total_seconds()\n",
    "    utmp = utmp.values\n",
    "    \n",
    "    ax.plot(t, utmp, label=\"{0:02d} - {1:02d}\".format(key,key+10))\n",
    "    \n",
    "plt.legend()\n",
    "ax.set_title(\"Hour {0}\".format(hour))\n",
    "ax.set_ylabel(\"U [m/s]\")\n",
    "ax.set_xlabel(\"time [s]\")\n",
    "fig.savefig(\"/Volumes/pdoubraw-1/repos/jet/figs/sonic_U_ts_hour_{0}.png\".format(hour))"
   ]
  },
  {
   "cell_type": "code",
   "execution_count": null,
   "metadata": {},
   "outputs": [],
   "source": []
  }
 ],
 "metadata": {
  "kernelspec": {
   "display_name": "Python 3",
   "language": "python",
   "name": "python3"
  },
  "language_info": {
   "codemirror_mode": {
    "name": "ipython",
    "version": 3
   },
   "file_extension": ".py",
   "mimetype": "text/x-python",
   "name": "python",
   "nbconvert_exporter": "python",
   "pygments_lexer": "ipython3",
   "version": "3.7.3"
  }
 },
 "nbformat": 4,
 "nbformat_minor": 2
}
