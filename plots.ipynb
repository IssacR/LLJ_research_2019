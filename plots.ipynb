{
 "cells": [
  {
   "cell_type": "markdown",
   "metadata": {},
   "source": [
    "# Plot Generator"
   ]
  },
  {
   "cell_type": "code",
   "execution_count": 2,
   "metadata": {},
   "outputs": [],
   "source": [
    "import sys\n",
    "\n",
    "sys.path.append(\"/Volumes/pdoubraw-1/repos/ABLTools/python/\")\n",
    "sys.path.append(\"C:/Users/krydalch/Documents/Repos/ABLtools_python/\")\n",
    "\n",
    "import numpy as np\n",
    "import pandas as pd\n",
    "import matplotlib.pyplot as plt\n",
    "import matplotlib.dates as mdates\n",
    "import glob, os\n",
    "import functions as f\n",
    "import stochasticTurbulenceTools as stt\n",
    "\n",
    "\n",
    "sys.path.append(\"C:/Users/krydalch/Documents/Repos/\")\n",
    "from datatools import wfip2\n",
    "from datatools.remote_sensing import scintec_profiler\n",
    "\n",
    "\n",
    "plt.rc(\"font\",size=14)"
   ]
  },
  {
   "cell_type": "markdown",
   "metadata": {},
   "source": [
    "## Import SODAR"
   ]
  },
  {
   "cell_type": "code",
   "execution_count": null,
   "metadata": {},
   "outputs": [],
   "source": [
    "sodar_path = \"/Volumes/pdoubraw-1/repos/jet/data/\"\n",
    "sodar_path = \"C:\\\\Users\\\\krydalch\\\\Desktop\\\\MetMastData\\\\SODAR\\\\\"\n",
    "\n",
    "df = wfip2.read_dir(dpath=sodar_path, reader=scintec_profiler, ext='mnd')\n",
    "df = df.set_index(\"datetime\")\n",
    "# Remove Faulty Data\n",
    "df = df.replace(\"99.99\",np.nan)\n",
    "df = df.replace(\"999.9\",np.nan)\n",
    "\n",
    "df['wind speed'] = df['wind speed'].astype(float)\n",
    "\n",
    "time_vs_height = df[[\"wind speed\",\"height\"]].reset_index().set_index([\"datetime\",\"height\"]).unstack().astype(\"float\")\n",
    "time_vs_height.index = time_vs_height.index.tz_localize(\"UTC\")\n",
    "\n"
   ]
  }
 ],
 "metadata": {
  "kernelspec": {
   "display_name": "Python 3",
   "language": "python",
   "name": "python3"
  },
  "language_info": {
   "codemirror_mode": {
    "name": "ipython",
    "version": 3
   },
   "file_extension": ".py",
   "mimetype": "text/x-python",
   "name": "python",
   "nbconvert_exporter": "python",
   "pygments_lexer": "ipython3",
   "version": "3.7.3"
  }
 },
 "nbformat": 4,
 "nbformat_minor": 2
}
