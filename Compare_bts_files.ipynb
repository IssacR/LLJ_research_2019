{
 "cells": [
  {
   "cell_type": "code",
   "execution_count": 1,
   "metadata": {},
   "outputs": [],
   "source": [
    "import sys\n",
    "sys.path.append(\"/Volumes/pdoubraw-1/repos/ABLTools/python/\")\n",
    "sys.path.append(\"C:/Users/krydalch/Documents/Repos/ABLtools_python/\")\n",
    "import numpy as np\n",
    "import matplotlib.pyplot as plt\n",
    "import stochasticTurbulenceTools as stt\n",
    "import glob, os\n",
    "import pandas as pd\n",
    "import functions as f\n",
    "from scipy import fftpack\n",
    "from scipy.signal import welch\n",
    "\n",
    "sys.path.append(\"C:/Users/krydalch/Documents/Repos/\")\n",
    "from datatools import wfip2\n",
    "from datatools.remote_sensing import scintec_profiler\n",
    "\n",
    "\n",
    "plt.rc(\"font\",size=14)"
   ]
  },
  {
   "cell_type": "markdown",
   "metadata": {},
   "source": [
    "# Input Data sets: (TurbSim.bts, UTS_input_file, True Sonic Data)"
   ]
  },
  {
   "cell_type": "code",
   "execution_count": 2,
   "metadata": {},
   "outputs": [
    {
     "name": "stdout",
     "output_type": "stream",
     "text": [
      "Opening file C:/Users/krydalch/Desktop/TurbSim/MyOutputFiles/LLJ/1440_1450_rand1/TurbSim.bts...\n"
     ]
    }
   ],
   "source": [
    "kir_ts1 = stt.stochasticTurbulence(\"TurbSim\")\n",
    "#kir_ts.readBTS(\"/Users/pdoubraw/Downloads/\")\n",
    "kir_ts1.readBTS(\"C:/Users/krydalch/Desktop/TurbSim/MyOutputFiles/LLJ/1440_1450_rand1/\")"
   ]
  },
  {
   "cell_type": "code",
   "execution_count": null,
   "metadata": {},
   "outputs": [],
   "source": [
    "kir_ts2 = stt.stochasticTurbulence(\"TurbSim\")\n",
    "#kir_ts.readBTS(\"/Users/pdoubraw/Downloads/\")\n",
    "kir_ts2.readBTS(\"C:/Users/krydalch/Desktop/TurbSim/MyOutputFiles/LLJ/1440_1450_rand2/\")"
   ]
  },
  {
   "cell_type": "code",
   "execution_count": null,
   "metadata": {},
   "outputs": [],
   "source": [
    "kir_ts3  = stt.stochasticTurbulence(\"TurbSim\")\n",
    "#kir_ts.readBTS(\"/Users/pdoubraw/Downloads/\")\n",
    "kir_ts3.readBTS(\"C:/Users/krydalch/Desktop/TurbSim/MyOutputFiles/LLJ/1440_1450_rand3/\")"
   ]
  },
  {
   "cell_type": "code",
   "execution_count": null,
   "metadata": {},
   "outputs": [],
   "source": [
    "kir_ts4  = stt.stochasticTurbulence(\"TurbSim\")\n",
    "#kir_ts.readBTS(\"/Users/pdoubraw/Downloads/\")\n",
    "kir_ts4.readBTS(\"C:/Users/krydalch/Desktop/TurbSim/MyOutputFiles/LLJ/1440_1450_rand4/\")"
   ]
  },
  {
   "cell_type": "code",
   "execution_count": null,
   "metadata": {},
   "outputs": [],
   "source": [
    "kir_ts5  = stt.stochasticTurbulence(\"TurbSim\")\n",
    "#kir_ts.readBTS(\"/Users/pdoubraw/Downloads/\")\n",
    "kir_ts5.readBTS(\"C:/Users/krydalch/Desktop/TurbSim/MyOutputFiles/LLJ/1440_1450_rand5/\")"
   ]
  },
  {
   "cell_type": "code",
   "execution_count": null,
   "metadata": {},
   "outputs": [],
   "source": [
    "kir_ts6  = stt.stochasticTurbulence(\"TurbSim\")\n",
    "#kir_ts.readBTS(\"/Users/pdoubraw/Downloads/\")\n",
    "kir_ts6.readBTS(\"C:/Users/krydalch/Desktop/TurbSim/MyOutputFiles/LLJ/1440_1450_rand6/\")"
   ]
  },
  {
   "cell_type": "code",
   "execution_count": null,
   "metadata": {},
   "outputs": [],
   "source": [
    "path_to_csvs   = \"C:\\\\Users\\\\krydalch\\\\Desktop\\\\MetMastData\\\\TTU tall tower\\\\\"\n",
    "start_time = '14:40:00'\n",
    "end_time = '14:50:00'\n",
    "master_df = f.get_sonic_met_dat(path_to_csvs, start_time ,end_time)"
   ]
  },
  {
   "cell_type": "code",
   "execution_count": null,
   "metadata": {},
   "outputs": [],
   "source": [
    "master_df.keys()"
   ]
  },
  {
   "cell_type": "code",
   "execution_count": null,
   "metadata": {},
   "outputs": [],
   "source": [
    "plt.rc(\"font\",size=18)\n",
    "\n",
    "########### TurbSim 1 ################\n",
    "TI_turb1 = kir_ts1.TI()\n",
    "Ti_hub1 = TI_turb1[kir_ts1.jHub, :]\n",
    "########### TurbSim 2 ################\n",
    "TI_turb2 = kir_ts2.TI()\n",
    "Ti_hub2 = TI_turb2[kir_ts2.jHub, :]\n",
    "# ########### TurbSim 3 ################\n",
    "TI_turb3 = kir_ts3.TI()\n",
    "Ti_hub3 = TI_turb3[kir_ts3.jHub, :]\n",
    "########### TurbSim 4 ################\n",
    "TI_turb4 = kir_ts4.TI()\n",
    "Ti_hub4 = TI_turb4[kir_ts4.jHub, :]\n",
    "########### TurbSim 5 ################\n",
    "TI_turb5 = kir_ts5.TI()\n",
    "Ti_hub5 = TI_turb5[kir_ts5.jHub, :]\n",
    "# ########### TurbSim 6 ################\n",
    "TI_turb6 = kir_ts6.TI()\n",
    "Ti_hub6 = TI_turb6[kir_ts6.jHub, :]\n",
    "\n",
    "###########3 True Sonic Data ###########3\n",
    "temp_df = master_df.copy()\n",
    "TI_master= []\n",
    "heights_mstr =[0.9, 2.4, 4.0, 10.1, 16.8, 47.2, 116.4, 158.2, 200.0]\n",
    "for h in heights_mstr:\n",
    "    u_m = temp_df[h]['U']\n",
    "    uu_m = np.sqrt((u_m - u_m.mean())**2)\n",
    "    ti_m = (uu_m / u_m.mean()).mean()\n",
    "    \n",
    "    TI_master = np.append(TI_master,ti_m)\n",
    "\n",
    "########################################3\n",
    "\n",
    "#TI_master = [Ti_hub1, Ti_hub2,Ti_hub3,Ti_hub4,Ti_hub5,Ti_hub6]\n",
    "\n",
    "fig = plt.figure(figsize=(12,9))\n",
    "plt.plot(Ti_hub1,kir_ts1.z)\n",
    "plt.plot(Ti_hub2,kir_ts2.z)\n",
    "plt.plot(Ti_hub3,kir_ts3.z)\n",
    "plt.plot(Ti_hub4,kir_ts4.z)\n",
    "plt.plot(Ti_hub5,kir_ts5.z)\n",
    "plt.plot(Ti_hub6,kir_ts6.z)\n",
    "\n",
    "#plt.plot(ti,heights,label= 'UTS')\n",
    "plt.plot(TI_master,heights_mstr,'k*',markersize=18)\n",
    "\n",
    "plt.legend()\n",
    "#plt.title(\"Turbulence Intensity for LLJ\")\n",
    "plt.xlabel(\"TI [-]\")\n",
    "plt.ylabel(\"Height above ground [m]\")\n",
    "plt.xlim(0, 0.08)\n",
    "#fig.savefig(\"../TI_1440.png\",bbox_inches=\"tight\",dpi=500)"
   ]
  },
  {
   "cell_type": "code",
   "execution_count": null,
   "metadata": {},
   "outputs": [],
   "source": [
    "y_ind = 0\n",
    "u_TS1 = []\n",
    "u_TS2 = []\n",
    "u_TS3 = []\n",
    "u_TS4 = []\n",
    "u_TS5 = []\n",
    "u_TS6 = []\n",
    "hs = []\n",
    "# Find avg U for each height TS\n",
    "i = 0\n",
    "for z in kir_ts1.z:\n",
    "    #print(np.mean(kir_ts.u[:,int(half_ind_y),i]))\n",
    "    u_TS1 = np.append(u_TS1,np.mean(kir_ts1.u[:,y_ind,i]))\n",
    "    \n",
    "    hs = np.append(hs, z)\n",
    "    i = i + 1\n",
    "i = 0    \n",
    "for z in kir_ts2.z:\n",
    "    #print(np.mean(kir_ts.u[:,int(half_ind_y),i]))\n",
    "    u_TS2 = np.append(u_TS2,np.mean(kir_ts2.u[:,y_ind,i]))\n",
    "    i = i + 1    \n",
    "i = 0    \n",
    "for z in kir_ts3.z:\n",
    "    #print(np.mean(kir_ts.u[:,int(half_ind_y),i]))\n",
    "    u_TS3 = np.append(u_TS3,np.mean(kir_ts3.u[:,y_ind,i]))\n",
    "    i = i + 1    \n",
    "i = 0    \n",
    "for z in kir_ts4.z:\n",
    "    #print(np.mean(kir_ts.u[:,int(half_ind_y),i]))\n",
    "    u_TS4 = np.append(u_TS4,np.mean(kir_ts4.u[:,y_ind,i]))\n",
    "    i = i + 1    \n",
    "i = 0    \n",
    "for z in kir_ts5.z:\n",
    "    #print(np.mean(kir_ts.u[:,int(half_ind_y),i]))\n",
    "    u_TS5 = np.append(u_TS5,np.mean(kir_ts5.u[:,y_ind,i]))\n",
    "    i = i + 1    \n",
    "i = 0    \n",
    "for z in kir_ts6.z:\n",
    "    #print(np.mean(kir_ts.u[:,int(half_ind_y),i]))\n",
    "    u_TS6 = np.append(u_TS6,np.mean(kir_ts6.u[:,y_ind,i]))\n",
    "    i = i + 1    \n",
    "\n",
    "plt.plot(u_TS1,hs,label='rand{0}'.format(1))\n",
    "plt.plot(u_TS2,hs,label='rand{0}'.format(2))\n",
    "plt.plot(u_TS3,hs,label='rand{0}'.format(3))\n",
    "plt.plot(u_TS4,hs,label='rand{0}'.format(4))\n",
    "plt.plot(u_TS5,hs,label='rand{0}'.format(5))\n",
    "plt.plot(u_TS6,hs,label='rand{0}'.format(6))\n",
    "\n",
    "plt.title('Velocity Profiles for 6 rand seeds')\n",
    "plt.xlabel('U [m/s]')\n",
    "plt.ylabel('Heights [m]')\n",
    "#plt.style.use('seaborn-darkgrid')\n",
    "plt.legend()\n",
    "plt.grid(True)"
   ]
  },
  {
   "cell_type": "markdown",
   "metadata": {},
   "source": [
    "## STORE BTS FILE DATA INTO CSV"
   ]
  },
  {
   "cell_type": "code",
   "execution_count": null,
   "metadata": {},
   "outputs": [],
   "source": [
    "# Welches\n",
    "kir_ts1.nSeconds\n",
    "kir_ts1.nTimeSteps\n",
    "\n",
    "dt  = kir_ts1.nSeconds / kir_ts1.nTimeSteps\n",
    "fs = 1/dt\n",
    "dat = kir_ts1.u[:,kir_ts1.jHub,kir_ts1.kHub]\n",
    "\n",
    "[f,P] = welch(dat,fs = fs)\n",
    "        # dt = np.unique(np.round(np.diff((series.index - series.index[0]).total_seconds()),2))[0]\n",
    "        # fs = 1/dt\n",
    "        # timeseries = series.values\n",
    "\n",
    "        # [f_LLJ,P_LLJ]=welch(timeseries,fs=fs)\n",
    "\n"
   ]
  },
  {
   "cell_type": "markdown",
   "metadata": {},
   "source": [
    "## Create a function that imports all .bts files and then saves valuable data to csv"
   ]
  },
  {
   "cell_type": "code",
   "execution_count": 22,
   "metadata": {},
   "outputs": [
    {
     "name": "stdout",
     "output_type": "stream",
     "text": [
      "Opening file C:/Users/krydalch/Desktop/TurbSim/MyOutputFiles/LLJ/1440_1450_rand1/TurbSim.bts...\n",
      "Opening file C:/Users/krydalch/Desktop/TurbSim/MyOutputFiles/LLJ/1440_1450_rand2/TurbSim.bts...\n",
      "Opening file C:/Users/krydalch/Desktop/TurbSim/MyOutputFiles/LLJ/1440_1450_rand3/TurbSim.bts...\n",
      "Opening file C:/Users/krydalch/Desktop/TurbSim/MyOutputFiles/LLJ/1440_1450_rand4/TurbSim.bts...\n",
      "Opening file C:/Users/krydalch/Desktop/TurbSim/MyOutputFiles/LLJ/1440_1450_rand5/TurbSim.bts...\n",
      "Opening file C:/Users/krydalch/Desktop/TurbSim/MyOutputFiles/LLJ/1440_1450_rand6/TurbSim.bts...\n",
      "Opening file C:/Users/krydalch/Desktop/TurbSim/MyOutputFiles/Normal/1820_1830_rand1/TurbSim.bts...\n",
      "Opening file C:/Users/krydalch/Desktop/TurbSim/MyOutputFiles/Normal/1820_1830_rand2/TurbSim.bts...\n",
      "Opening file C:/Users/krydalch/Desktop/TurbSim/MyOutputFiles/Normal/1820_1830_rand3/TurbSim.bts...\n",
      "Opening file C:/Users/krydalch/Desktop/TurbSim/MyOutputFiles/Normal/1820_1830_rand4/TurbSim.bts...\n",
      "Opening file C:/Users/krydalch/Desktop/TurbSim/MyOutputFiles/Normal/1820_1830_rand5/TurbSim.bts...\n",
      "Opening file C:/Users/krydalch/Desktop/TurbSim/MyOutputFiles/Normal/1820_1830_rand6/TurbSim.bts...\n",
      "Done!\n"
     ]
    }
   ],
   "source": [
    "# Create Coloumns of Data\n",
    "str_mstr =[]\n",
    "for h in kir_ts1.z:\n",
    "    for comp in ['u','v','w']:\n",
    "        str1 = str(h)+' meters'\n",
    "        str2 = str1+'_'+comp\n",
    "        str_mstr = np.append(str_mstr,str2) \n",
    "\n",
    "# Populate Data to CSV\n",
    "for per in np.array(['1440_1450','1820_1830']):\n",
    "    for i in range(1,7):\n",
    "        if per == '1440_1450':\n",
    "            path_to_bts = \"C:/Users/krydalch/Desktop/TurbSim/MyOutputFiles/LLJ/{0}_rand{1}/\".format(per,i)\n",
    "        if per == '1820_1830':\n",
    "            path_to_bts = \"C:/Users/krydalch/Desktop/TurbSim/MyOutputFiles/Normal/{0}_rand{1}/\".format(per,i)\n",
    "            \n",
    "        kir_ts = stt.stochasticTurbulence(\"TurbSim\")\n",
    "        kir_ts.readBTS(path_to_bts)\n",
    "        \n",
    "        index = np.arange(0.0,kir_ts.nSeconds,kir_ts.dT)\n",
    "        df = pd.DataFrame(index = index, columns = str_mstr)\n",
    "        \n",
    "        for j in range(0,len((kir_ts.z))):\n",
    "            h = kir_ts.z[j]\n",
    "            #-----Components\n",
    "            u = kir_ts.u[:,kir_ts.jHub,j]\n",
    "            v = kir_ts.v[:,kir_ts.jHub,j]\n",
    "            w = kir_ts.w[:,kir_ts.jHub,j]\n",
    "            #-----\n",
    "            st_u = str(h)+' meters_u'\n",
    "            st_v = str(h)+' meters_v'\n",
    "            st_w = str(h)+' meters_w'\n",
    "            #----\n",
    "            df[st_u] = u\n",
    "            df[st_v] = v\n",
    "            df[st_w] = w\n",
    "            \n",
    "        \n",
    "        path_to_csv = 'C:/Users/krydalch/Desktop/TurbSim/csvs/{0}_rand{1}.csv'.format(per,i)\n",
    "        df.to_csv(path_to_csv)\n",
    "    \n",
    "print('Done!')"
   ]
  }
 ],
 "metadata": {
  "kernelspec": {
   "display_name": "Python 3",
   "language": "python",
   "name": "python3"
  },
  "language_info": {
   "codemirror_mode": {
    "name": "ipython",
    "version": 3
   },
   "file_extension": ".py",
   "mimetype": "text/x-python",
   "name": "python",
   "nbconvert_exporter": "python",
   "pygments_lexer": "ipython3",
   "version": "3.7.3"
  }
 },
 "nbformat": 4,
 "nbformat_minor": 2
}
