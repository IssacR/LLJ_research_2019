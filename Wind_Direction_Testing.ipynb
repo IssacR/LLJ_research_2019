{
 "cells": [
  {
   "cell_type": "code",
   "execution_count": 1,
   "metadata": {},
   "outputs": [],
   "source": [
    "%load_ext autoreload\n",
    "%autoreload 2\n",
    "%matplotlib inline"
   ]
  },
  {
   "cell_type": "code",
   "execution_count": 9,
   "metadata": {},
   "outputs": [],
   "source": [
    "import numpy as np\n",
    "import pandas as pd\n",
    "import matplotlib.pyplot as plt\n",
    "import matplotlib.dates as mdates\n",
    "from matplotlib.ticker import FormatStrFormatter\n",
    "import functions as f\n",
    "import sys\n",
    "#sys.path.append(\"/Volumes/pdoubraw-1/repos/\")\n",
    "sys.path.append(\"C:/Users/krydalch/Documents/Repos/\")\n",
    "from datatools import wfip2\n",
    "from datatools.remote_sensing import scintec_profiler"
   ]
  },
  {
   "cell_type": "markdown",
   "metadata": {},
   "source": [
    "# Import SODAR Data"
   ]
  },
  {
   "cell_type": "code",
   "execution_count": 5,
   "metadata": {},
   "outputs": [],
   "source": [
    "sodar_path = \"/Volumes/pdoubraw-1/repos/jet/data/\"\n",
    "sodar_path = \"C:\\\\Users\\\\krydalch\\\\Desktop\\\\Mast Data Analysis\\\\SODAR\\\\\"\n",
    "sodar_path = \"C:\\\\Users\\\\krydalch\\\\Desktop\\\\MetMastData\\\\SODAR\\\\\""
   ]
  },
  {
   "cell_type": "code",
   "execution_count": 6,
   "metadata": {},
   "outputs": [
    {
     "data": {
      "text/html": [
       "<div>\n",
       "<style scoped>\n",
       "    .dataframe tbody tr th:only-of-type {\n",
       "        vertical-align: middle;\n",
       "    }\n",
       "\n",
       "    .dataframe tbody tr th {\n",
       "        vertical-align: top;\n",
       "    }\n",
       "\n",
       "    .dataframe thead th {\n",
       "        text-align: right;\n",
       "    }\n",
       "</style>\n",
       "<table border=\"1\" class=\"dataframe\">\n",
       "  <thead>\n",
       "    <tr style=\"text-align: right;\">\n",
       "      <th></th>\n",
       "      <th>height</th>\n",
       "      <th>wind speed</th>\n",
       "      <th>wind direction</th>\n",
       "      <th>wind W</th>\n",
       "      <th>sigma W</th>\n",
       "      <th>backscatter</th>\n",
       "      <th>error code</th>\n",
       "    </tr>\n",
       "    <tr>\n",
       "      <th>datetime</th>\n",
       "      <th></th>\n",
       "      <th></th>\n",
       "      <th></th>\n",
       "      <th></th>\n",
       "      <th></th>\n",
       "      <th></th>\n",
       "      <th></th>\n",
       "    </tr>\n",
       "  </thead>\n",
       "  <tbody>\n",
       "    <tr>\n",
       "      <th>2017-02-17</th>\n",
       "      <td>30.0</td>\n",
       "      <td>5.26</td>\n",
       "      <td>188.7</td>\n",
       "      <td>0.00</td>\n",
       "      <td>0.16</td>\n",
       "      <td>1.04E+06</td>\n",
       "      <td>0</td>\n",
       "    </tr>\n",
       "    <tr>\n",
       "      <th>2017-02-17</th>\n",
       "      <td>40.0</td>\n",
       "      <td>6.46</td>\n",
       "      <td>188.0</td>\n",
       "      <td>0.13</td>\n",
       "      <td>0.16</td>\n",
       "      <td>7.22E+05</td>\n",
       "      <td>0</td>\n",
       "    </tr>\n",
       "    <tr>\n",
       "      <th>2017-02-17</th>\n",
       "      <td>50.0</td>\n",
       "      <td>7.25</td>\n",
       "      <td>186.9</td>\n",
       "      <td>0.06</td>\n",
       "      <td>0.16</td>\n",
       "      <td>1.27E+06</td>\n",
       "      <td>0</td>\n",
       "    </tr>\n",
       "    <tr>\n",
       "      <th>2017-02-17</th>\n",
       "      <td>60.0</td>\n",
       "      <td>7.55</td>\n",
       "      <td>188.7</td>\n",
       "      <td>0.11</td>\n",
       "      <td>0.17</td>\n",
       "      <td>7.10E+05</td>\n",
       "      <td>0</td>\n",
       "    </tr>\n",
       "    <tr>\n",
       "      <th>2017-02-17</th>\n",
       "      <td>70.0</td>\n",
       "      <td>7.98</td>\n",
       "      <td>189.6</td>\n",
       "      <td>0.07</td>\n",
       "      <td>0.19</td>\n",
       "      <td>4.18E+05</td>\n",
       "      <td>0</td>\n",
       "    </tr>\n",
       "  </tbody>\n",
       "</table>\n",
       "</div>"
      ],
      "text/plain": [
       "            height wind speed wind direction wind W sigma W backscatter  \\\n",
       "datetime                                                                  \n",
       "2017-02-17    30.0       5.26          188.7   0.00    0.16    1.04E+06   \n",
       "2017-02-17    40.0       6.46          188.0   0.13    0.16    7.22E+05   \n",
       "2017-02-17    50.0       7.25          186.9   0.06    0.16    1.27E+06   \n",
       "2017-02-17    60.0       7.55          188.7   0.11    0.17    7.10E+05   \n",
       "2017-02-17    70.0       7.98          189.6   0.07    0.19    4.18E+05   \n",
       "\n",
       "           error code  \n",
       "datetime               \n",
       "2017-02-17          0  \n",
       "2017-02-17          0  \n",
       "2017-02-17          0  \n",
       "2017-02-17          0  \n",
       "2017-02-17          0  "
      ]
     },
     "execution_count": 6,
     "metadata": {},
     "output_type": "execute_result"
    }
   ],
   "source": [
    "df = wfip2.read_dir(dpath=sodar_path, reader=scintec_profiler, ext='mnd')\n",
    "df = df.set_index(\"datetime\")\n",
    "df.head()"
   ]
  },
  {
   "cell_type": "code",
   "execution_count": 7,
   "metadata": {},
   "outputs": [],
   "source": [
    "time_vs_height = df[[\"wind speed\",\"height\"]].reset_index().set_index([\"datetime\",\"height\"]).unstack().astype(\"float\")\n",
    "time_vs_height.index = time_vs_height.index.tz_localize(\"UTC\")"
   ]
  },
  {
   "cell_type": "markdown",
   "metadata": {},
   "source": [
    "# Import Sonic Data: Wind Direction"
   ]
  },
  {
   "cell_type": "code",
   "execution_count": 11,
   "metadata": {},
   "outputs": [],
   "source": [
    "df_sonic = pd.read_csv(\"Wind_Direction_10min_mean.csv\",index_col=[0],parse_dates=True)\n",
    "df_test = pd.read_csv(\"sonic_ws_10min_mean.csv\",index_col=[0],parse_dates=True)"
   ]
  },
  {
   "cell_type": "code",
   "execution_count": 12,
   "metadata": {},
   "outputs": [
    {
     "data": {
      "text/html": [
       "<div>\n",
       "<style scoped>\n",
       "    .dataframe tbody tr th:only-of-type {\n",
       "        vertical-align: middle;\n",
       "    }\n",
       "\n",
       "    .dataframe tbody tr th {\n",
       "        vertical-align: top;\n",
       "    }\n",
       "\n",
       "    .dataframe thead th {\n",
       "        text-align: right;\n",
       "    }\n",
       "</style>\n",
       "<table border=\"1\" class=\"dataframe\">\n",
       "  <thead>\n",
       "    <tr style=\"text-align: right;\">\n",
       "      <th></th>\n",
       "      <th>0.9</th>\n",
       "      <th>2.4</th>\n",
       "      <th>4.0</th>\n",
       "      <th>10.1</th>\n",
       "      <th>16.8</th>\n",
       "      <th>47.2</th>\n",
       "      <th>116.4</th>\n",
       "      <th>158.2</th>\n",
       "      <th>200.0</th>\n",
       "    </tr>\n",
       "  </thead>\n",
       "  <tbody>\n",
       "    <tr>\n",
       "      <th>2017-02-17 00:00:00+00:00</th>\n",
       "      <td>1.760506</td>\n",
       "      <td>2.085837</td>\n",
       "      <td>2.065484</td>\n",
       "      <td>2.482960</td>\n",
       "      <td>3.096731</td>\n",
       "      <td>4.259617</td>\n",
       "      <td>6.951333</td>\n",
       "      <td>7.622561</td>\n",
       "      <td>10.192081</td>\n",
       "    </tr>\n",
       "    <tr>\n",
       "      <th>2017-02-17 00:10:00+00:00</th>\n",
       "      <td>1.488232</td>\n",
       "      <td>1.764777</td>\n",
       "      <td>1.759977</td>\n",
       "      <td>2.315117</td>\n",
       "      <td>2.915626</td>\n",
       "      <td>4.179341</td>\n",
       "      <td>5.957020</td>\n",
       "      <td>6.734694</td>\n",
       "      <td>9.236851</td>\n",
       "    </tr>\n",
       "    <tr>\n",
       "      <th>2017-02-17 00:20:00+00:00</th>\n",
       "      <td>1.345313</td>\n",
       "      <td>1.587843</td>\n",
       "      <td>1.562011</td>\n",
       "      <td>2.217619</td>\n",
       "      <td>2.635905</td>\n",
       "      <td>3.695483</td>\n",
       "      <td>5.230997</td>\n",
       "      <td>5.939940</td>\n",
       "      <td>8.363798</td>\n",
       "    </tr>\n",
       "    <tr>\n",
       "      <th>2017-02-17 00:30:00+00:00</th>\n",
       "      <td>1.359829</td>\n",
       "      <td>1.632719</td>\n",
       "      <td>1.597804</td>\n",
       "      <td>2.328974</td>\n",
       "      <td>2.699088</td>\n",
       "      <td>3.879017</td>\n",
       "      <td>6.534010</td>\n",
       "      <td>8.034880</td>\n",
       "      <td>10.702627</td>\n",
       "    </tr>\n",
       "    <tr>\n",
       "      <th>2017-02-17 00:40:00+00:00</th>\n",
       "      <td>1.243604</td>\n",
       "      <td>1.538192</td>\n",
       "      <td>1.524335</td>\n",
       "      <td>2.259734</td>\n",
       "      <td>2.731474</td>\n",
       "      <td>4.250431</td>\n",
       "      <td>7.416316</td>\n",
       "      <td>8.817852</td>\n",
       "      <td>12.104825</td>\n",
       "    </tr>\n",
       "  </tbody>\n",
       "</table>\n",
       "</div>"
      ],
      "text/plain": [
       "                                0.9       2.4       4.0      10.1      16.8  \\\n",
       "2017-02-17 00:00:00+00:00  1.760506  2.085837  2.065484  2.482960  3.096731   \n",
       "2017-02-17 00:10:00+00:00  1.488232  1.764777  1.759977  2.315117  2.915626   \n",
       "2017-02-17 00:20:00+00:00  1.345313  1.587843  1.562011  2.217619  2.635905   \n",
       "2017-02-17 00:30:00+00:00  1.359829  1.632719  1.597804  2.328974  2.699088   \n",
       "2017-02-17 00:40:00+00:00  1.243604  1.538192  1.524335  2.259734  2.731474   \n",
       "\n",
       "                               47.2     116.4     158.2      200.0  \n",
       "2017-02-17 00:00:00+00:00  4.259617  6.951333  7.622561  10.192081  \n",
       "2017-02-17 00:10:00+00:00  4.179341  5.957020  6.734694   9.236851  \n",
       "2017-02-17 00:20:00+00:00  3.695483  5.230997  5.939940   8.363798  \n",
       "2017-02-17 00:30:00+00:00  3.879017  6.534010  8.034880  10.702627  \n",
       "2017-02-17 00:40:00+00:00  4.250431  7.416316  8.817852  12.104825  "
      ]
     },
     "execution_count": 12,
     "metadata": {},
     "output_type": "execute_result"
    }
   ],
   "source": [
    "df_test.head()"
   ]
  },
  {
   "cell_type": "markdown",
   "metadata": {},
   "source": [
    "## Filter SODAR of False Data"
   ]
  },
  {
   "cell_type": "code",
   "execution_count": 20,
   "metadata": {},
   "outputs": [],
   "source": [
    "#sodar.keys()\n",
    "sodar = df[df.height==height][\"wind direction\"].astype(\"float\").copy()\n",
    "sodar[sodar>360] = np.nan\n",
    "\n"
   ]
  },
  {
   "cell_type": "code",
   "execution_count": 31,
   "metadata": {},
   "outputs": [
    {
     "data": {
      "text/plain": [
       "Timestamp('2017-02-17 00:10:00')"
      ]
     },
     "execution_count": 31,
     "metadata": {},
     "output_type": "execute_result"
    }
   ],
   "source": [
    "pd.Timestamp(\"2017-02-17 00:10:00\")"
   ]
  },
  {
   "cell_type": "code",
   "execution_count": 34,
   "metadata": {},
   "outputs": [
    {
     "data": {
      "text/plain": [
       "DatetimeIndex(['2017-02-17 00:00:00', '2017-02-17 00:10:00',\n",
       "               '2017-02-17 00:20:00', '2017-02-17 00:30:00',\n",
       "               '2017-02-17 00:40:00', '2017-02-17 00:50:00',\n",
       "               '2017-02-17 01:00:00', '2017-02-17 01:10:00',\n",
       "               '2017-02-17 01:20:00', '2017-02-17 01:30:00',\n",
       "               ...\n",
       "               '2017-02-17 22:20:00', '2017-02-17 22:30:00',\n",
       "               '2017-02-17 22:40:00', '2017-02-17 22:50:00',\n",
       "               '2017-02-17 23:00:00', '2017-02-17 23:10:00',\n",
       "               '2017-02-17 23:20:00', '2017-02-17 23:30:00',\n",
       "               '2017-02-17 23:40:00', '2017-02-17 23:50:00'],\n",
       "              dtype='datetime64[ns]', name='datetime', length=144, freq=None)"
      ]
     },
     "execution_count": 34,
     "metadata": {},
     "output_type": "execute_result"
    }
   ],
   "source": [
    "sodar.index"
   ]
  },
  {
   "cell_type": "code",
   "execution_count": 40,
   "metadata": {},
   "outputs": [
    {
     "data": {
      "text/plain": [
       "Text(0.5, 1.0, 'Wind Direction for SODAR and Sonic Data')"
      ]
     },
     "execution_count": 40,
     "metadata": {},
     "output_type": "execute_result"
    },
    {
     "data": {
      "image/png": "[encoded data removed]",
      "text/plain": [
       "<Figure size 1152x288 with 1 Axes>"
      ]
     },
     "metadata": {
      "needs_background": "light"
     },
     "output_type": "display_data"
    }
   ],
   "source": [
    "height = 30\n",
    "h_sonic = \"47.2\"\n",
    "list_of_datetimes = {}\n",
    "\n",
    "fig  = plt.figure(figsize=(16,4))\n",
    "ax   = fig.add_subplot(111)\n",
    "\n",
    "idx1 = pd.Timestamp(\"2017-02-17 00:10:00\")\n",
    "idx2 = pd.Timestamp(\"2017-02-17 23:50:00\")\n",
    "\n",
    "idx3 = (2*30.5+17)*24\n",
    "idx4 = idx3 + 24\n",
    "list_of_datetimes = [idx1 , idx2]\n",
    "\n",
    "\n",
    "# ax.axhline(y=270.0,xmin =idx3, xmax =idx4 ,  color='gray', linestyle=\":\")\n",
    "\n",
    "ax.plot(sodar.index, sodar.values*0.0+270, color='grey', linestyle=\":\")\n",
    "\n",
    "ax.plot(sodar,'-or',label=\"sodar at {0:.0f} m\".format(height))\n",
    "ax.plot(df_sonic[\"47.2\"],'-ob', label=\"sonic at {0}m\".format(h_sonic))\n",
    "#ax.plot_date(list_of_datetimes, [270, 270])\n",
    "\n",
    "\n",
    "ax.legend()\n",
    "ax.xaxis.set_major_formatter(mdates.DateFormatter('%m/%d\\n%H:%M'))   \n",
    "ax.set_xlabel(\"Time (M-D-H)\")\n",
    "ax.set_ylabel(\"Wind Direction (deg)\")\n",
    "ax.set_ylim([100,360])\n",
    "#ax.set_xlim([time_vs_height.index[0], time_vs_height.index[-1]])\n",
    "ax.set_title(\"Wind Direction for SODAR and Sonic Data\")"
   ]
  },
  {
   "cell_type": "code",
   "execution_count": 36,
   "metadata": {},
   "outputs": [
    {
     "data": {
      "text/plain": [
       "DatetimeIndex(['2017-02-17 00:00:00', '2017-02-17 00:10:00',\n",
       "               '2017-02-17 00:20:00', '2017-02-17 00:30:00',\n",
       "               '2017-02-17 00:40:00', '2017-02-17 00:50:00',\n",
       "               '2017-02-17 01:00:00', '2017-02-17 01:10:00',\n",
       "               '2017-02-17 01:20:00', '2017-02-17 01:30:00',\n",
       "               ...\n",
       "               '2017-02-17 22:20:00', '2017-02-17 22:30:00',\n",
       "               '2017-02-17 22:40:00', '2017-02-17 22:50:00',\n",
       "               '2017-02-17 23:00:00', '2017-02-17 23:10:00',\n",
       "               '2017-02-17 23:20:00', '2017-02-17 23:30:00',\n",
       "               '2017-02-17 23:40:00', '2017-02-17 23:50:00'],\n",
       "              dtype='datetime64[ns]', name='datetime', length=144, freq=None)"
      ]
     },
     "execution_count": 36,
     "metadata": {},
     "output_type": "execute_result"
    }
   ],
   "source": [
    "sodar.index"
   ]
  },
  {
   "cell_type": "markdown",
   "metadata": {},
   "source": [
    "## TEST TO SEE IF PSD SPIKE IS DUE TO TOWER WAKE"
   ]
  },
  {
   "cell_type": "markdown",
   "metadata": {},
   "source": [
    "#### Import SONIC"
   ]
  },
  {
   "cell_type": "code",
   "execution_count": 10,
   "metadata": {},
   "outputs": [
    {
     "name": "stdout",
     "output_type": "stream",
     "text": [
      "------------------\n",
      "Starting Master Function\n",
      "group 1 out of 4\n",
      "group 2 out of 4\n",
      "group 3 out of 4\n",
      "group 4 out of 4\n",
      "Creating Final DataFrame\n",
      "DONE!\n",
      "------------------\n"
     ]
    }
   ],
   "source": [
    "path_to_csvs   = \"C:\\\\Users\\\\krydalch\\\\Desktop\\\\MetMastData\\\\TTU tall tower\\\\\"\n",
    "start_time = '14:10:00'\n",
    "end_time = '14:40:00'\n",
    "master_df = f.get_sonic_met_dat(path_to_csvs, start_time ,end_time)\n",
    "#series = master_df[116.4]\n"
   ]
  },
  {
   "cell_type": "code",
   "execution_count": 12,
   "metadata": {},
   "outputs": [],
   "source": [
    "df_sonic = master_df[116.4]['Theta']"
   ]
  },
  {
   "cell_type": "code",
   "execution_count": 11,
   "metadata": {},
   "outputs": [
    {
     "data": {
      "text/html": [
       "<div>\n",
       "<style scoped>\n",
       "    .dataframe tbody tr th:only-of-type {\n",
       "        vertical-align: middle;\n",
       "    }\n",
       "\n",
       "    .dataframe tbody tr th {\n",
       "        vertical-align: top;\n",
       "    }\n",
       "\n",
       "    .dataframe thead tr th {\n",
       "        text-align: left;\n",
       "    }\n",
       "</style>\n",
       "<table border=\"1\" class=\"dataframe\">\n",
       "  <thead>\n",
       "    <tr>\n",
       "      <th></th>\n",
       "      <th colspan=\"4\" halign=\"left\">0.9</th>\n",
       "      <th colspan=\"4\" halign=\"left\">2.4</th>\n",
       "      <th colspan=\"2\" halign=\"left\">4.0</th>\n",
       "      <th>...</th>\n",
       "      <th colspan=\"2\" halign=\"left\">116.4</th>\n",
       "      <th colspan=\"4\" halign=\"left\">158.2</th>\n",
       "      <th colspan=\"4\" halign=\"left\">200.0</th>\n",
       "    </tr>\n",
       "    <tr>\n",
       "      <th></th>\n",
       "      <th>Theta</th>\n",
       "      <th>U</th>\n",
       "      <th>V</th>\n",
       "      <th>W</th>\n",
       "      <th>Theta</th>\n",
       "      <th>U</th>\n",
       "      <th>V</th>\n",
       "      <th>W</th>\n",
       "      <th>Theta</th>\n",
       "      <th>U</th>\n",
       "      <th>...</th>\n",
       "      <th>V</th>\n",
       "      <th>W</th>\n",
       "      <th>Theta</th>\n",
       "      <th>U</th>\n",
       "      <th>V</th>\n",
       "      <th>W</th>\n",
       "      <th>Theta</th>\n",
       "      <th>U</th>\n",
       "      <th>V</th>\n",
       "      <th>W</th>\n",
       "    </tr>\n",
       "  </thead>\n",
       "  <tbody>\n",
       "    <tr>\n",
       "      <th>2017-02-17 14:10:00+00:00</th>\n",
       "      <td>-0.172218</td>\n",
       "      <td>3.409230</td>\n",
       "      <td>-0.010247</td>\n",
       "      <td>0.144377</td>\n",
       "      <td>-11.422278</td>\n",
       "      <td>4.688723</td>\n",
       "      <td>-0.947310</td>\n",
       "      <td>-0.016773</td>\n",
       "      <td>-5.907489</td>\n",
       "      <td>5.450369</td>\n",
       "      <td>...</td>\n",
       "      <td>0.093244</td>\n",
       "      <td>-0.214669</td>\n",
       "      <td>-1.240477</td>\n",
       "      <td>16.439919</td>\n",
       "      <td>-0.355987</td>\n",
       "      <td>-0.154713</td>\n",
       "      <td>0.558174</td>\n",
       "      <td>15.606792</td>\n",
       "      <td>0.152046</td>\n",
       "      <td>-0.062699</td>\n",
       "    </tr>\n",
       "    <tr>\n",
       "      <th>2017-02-17 14:10:00.020000+00:00</th>\n",
       "      <td>0.216358</td>\n",
       "      <td>3.350135</td>\n",
       "      <td>0.012651</td>\n",
       "      <td>0.094543</td>\n",
       "      <td>-10.904301</td>\n",
       "      <td>4.758255</td>\n",
       "      <td>-0.916666</td>\n",
       "      <td>-0.011646</td>\n",
       "      <td>-3.185907</td>\n",
       "      <td>5.460826</td>\n",
       "      <td>...</td>\n",
       "      <td>0.054183</td>\n",
       "      <td>-0.198884</td>\n",
       "      <td>-1.346035</td>\n",
       "      <td>16.473617</td>\n",
       "      <td>-0.387082</td>\n",
       "      <td>-0.137464</td>\n",
       "      <td>0.546536</td>\n",
       "      <td>15.448091</td>\n",
       "      <td>0.147362</td>\n",
       "      <td>-0.163655</td>\n",
       "    </tr>\n",
       "    <tr>\n",
       "      <th>2017-02-17 14:10:00.040000+00:00</th>\n",
       "      <td>-0.320293</td>\n",
       "      <td>3.349155</td>\n",
       "      <td>-0.018723</td>\n",
       "      <td>0.133463</td>\n",
       "      <td>-12.876102</td>\n",
       "      <td>4.974899</td>\n",
       "      <td>-1.137220</td>\n",
       "      <td>0.084899</td>\n",
       "      <td>-3.305566</td>\n",
       "      <td>5.420448</td>\n",
       "      <td>...</td>\n",
       "      <td>0.066707</td>\n",
       "      <td>-0.250089</td>\n",
       "      <td>-1.584350</td>\n",
       "      <td>16.487531</td>\n",
       "      <td>-0.456031</td>\n",
       "      <td>-0.149806</td>\n",
       "      <td>-0.624572</td>\n",
       "      <td>15.480619</td>\n",
       "      <td>-0.168759</td>\n",
       "      <td>-0.160500</td>\n",
       "    </tr>\n",
       "    <tr>\n",
       "      <th>2017-02-17 14:10:00.060000+00:00</th>\n",
       "      <td>-2.079489</td>\n",
       "      <td>3.217070</td>\n",
       "      <td>-0.116811</td>\n",
       "      <td>0.148705</td>\n",
       "      <td>-16.881008</td>\n",
       "      <td>4.992759</td>\n",
       "      <td>-1.515109</td>\n",
       "      <td>0.014319</td>\n",
       "      <td>-4.583426</td>\n",
       "      <td>5.422485</td>\n",
       "      <td>...</td>\n",
       "      <td>0.053517</td>\n",
       "      <td>-0.238468</td>\n",
       "      <td>-2.226066</td>\n",
       "      <td>16.483192</td>\n",
       "      <td>-0.640730</td>\n",
       "      <td>-0.103250</td>\n",
       "      <td>0.686488</td>\n",
       "      <td>15.543803</td>\n",
       "      <td>0.186247</td>\n",
       "      <td>-0.138612</td>\n",
       "    </tr>\n",
       "    <tr>\n",
       "      <th>2017-02-17 14:10:00.080000+00:00</th>\n",
       "      <td>-0.485118</td>\n",
       "      <td>3.188595</td>\n",
       "      <td>-0.026998</td>\n",
       "      <td>0.171568</td>\n",
       "      <td>-18.631293</td>\n",
       "      <td>4.919048</td>\n",
       "      <td>-1.658434</td>\n",
       "      <td>0.095710</td>\n",
       "      <td>-3.399471</td>\n",
       "      <td>5.358570</td>\n",
       "      <td>...</td>\n",
       "      <td>0.115154</td>\n",
       "      <td>-0.205762</td>\n",
       "      <td>-1.359861</td>\n",
       "      <td>16.517958</td>\n",
       "      <td>-0.392112</td>\n",
       "      <td>-0.140399</td>\n",
       "      <td>0.360821</td>\n",
       "      <td>15.446143</td>\n",
       "      <td>0.097273</td>\n",
       "      <td>-0.154307</td>\n",
       "    </tr>\n",
       "  </tbody>\n",
       "</table>\n",
       "<p>5 rows × 36 columns</p>\n",
       "</div>"
      ],
      "text/plain": [
       "                                     0.9                                  \\\n",
       "                                     Theta         U         V         W   \n",
       "2017-02-17 14:10:00+00:00        -0.172218  3.409230 -0.010247  0.144377   \n",
       "2017-02-17 14:10:00.020000+00:00  0.216358  3.350135  0.012651  0.094543   \n",
       "2017-02-17 14:10:00.040000+00:00 -0.320293  3.349155 -0.018723  0.133463   \n",
       "2017-02-17 14:10:00.060000+00:00 -2.079489  3.217070 -0.116811  0.148705   \n",
       "2017-02-17 14:10:00.080000+00:00 -0.485118  3.188595 -0.026998  0.171568   \n",
       "\n",
       "                                      2.4                                  \\\n",
       "                                      Theta         U         V         W   \n",
       "2017-02-17 14:10:00+00:00        -11.422278  4.688723 -0.947310 -0.016773   \n",
       "2017-02-17 14:10:00.020000+00:00 -10.904301  4.758255 -0.916666 -0.011646   \n",
       "2017-02-17 14:10:00.040000+00:00 -12.876102  4.974899 -1.137220  0.084899   \n",
       "2017-02-17 14:10:00.060000+00:00 -16.881008  4.992759 -1.515109  0.014319   \n",
       "2017-02-17 14:10:00.080000+00:00 -18.631293  4.919048 -1.658434  0.095710   \n",
       "\n",
       "                                     4.0              ...     116.4            \\\n",
       "                                     Theta         U  ...         V         W   \n",
       "2017-02-17 14:10:00+00:00        -5.907489  5.450369  ...  0.093244 -0.214669   \n",
       "2017-02-17 14:10:00.020000+00:00 -3.185907  5.460826  ...  0.054183 -0.198884   \n",
       "2017-02-17 14:10:00.040000+00:00 -3.305566  5.420448  ...  0.066707 -0.250089   \n",
       "2017-02-17 14:10:00.060000+00:00 -4.583426  5.422485  ...  0.053517 -0.238468   \n",
       "2017-02-17 14:10:00.080000+00:00 -3.399471  5.358570  ...  0.115154 -0.205762   \n",
       "\n",
       "                                     158.2                                 \\\n",
       "                                     Theta          U         V         W   \n",
       "2017-02-17 14:10:00+00:00        -1.240477  16.439919 -0.355987 -0.154713   \n",
       "2017-02-17 14:10:00.020000+00:00 -1.346035  16.473617 -0.387082 -0.137464   \n",
       "2017-02-17 14:10:00.040000+00:00 -1.584350  16.487531 -0.456031 -0.149806   \n",
       "2017-02-17 14:10:00.060000+00:00 -2.226066  16.483192 -0.640730 -0.103250   \n",
       "2017-02-17 14:10:00.080000+00:00 -1.359861  16.517958 -0.392112 -0.140399   \n",
       "\n",
       "                                     200.0                                 \n",
       "                                     Theta          U         V         W  \n",
       "2017-02-17 14:10:00+00:00         0.558174  15.606792  0.152046 -0.062699  \n",
       "2017-02-17 14:10:00.020000+00:00  0.546536  15.448091  0.147362 -0.163655  \n",
       "2017-02-17 14:10:00.040000+00:00 -0.624572  15.480619 -0.168759 -0.160500  \n",
       "2017-02-17 14:10:00.060000+00:00  0.686488  15.543803  0.186247 -0.138612  \n",
       "2017-02-17 14:10:00.080000+00:00  0.360821  15.446143  0.097273 -0.154307  \n",
       "\n",
       "[5 rows x 36 columns]"
      ]
     },
     "execution_count": 11,
     "metadata": {},
     "output_type": "execute_result"
    }
   ],
   "source": [
    "master_df.head()"
   ]
  },
  {
   "cell_type": "code",
   "execution_count": 19,
   "metadata": {},
   "outputs": [],
   "source": [
    "height = 120.0\n",
    "sodar = df[df.height==height][\"wind direction\"].astype(\"float\").copy()\n",
    "sodar[sodar>360] = np.nan\n",
    "sodar = sodar[\"2017-02-17 14:10:00\":\"2017-02-17 14:40:00\"]\n",
    "\n",
    "#sodar.head()"
   ]
  },
  {
   "cell_type": "code",
   "execution_count": 22,
   "metadata": {},
   "outputs": [
    {
     "data": {
      "text/plain": [
       "Text(0.5, 1.0, 'Wind Direction for SODAR and Sonic Data')"
      ]
     },
     "execution_count": 22,
     "metadata": {},
     "output_type": "execute_result"
    },
    {
     "data": {
      "image/png": "[encoded data removed]",
      "text/plain": [
       "<Figure size 1152x288 with 1 Axes>"
      ]
     },
     "metadata": {
      "needs_background": "light"
     },
     "output_type": "display_data"
    }
   ],
   "source": [
    "height = 120\n",
    "h_sonic = \"47.2\"\n",
    "list_of_datetimes = {}\n",
    "\n",
    "fig  = plt.figure(figsize=(16,4))\n",
    "ax   = fig.add_subplot(111)\n",
    "\n",
    "# ax.axhline(y=270.0,xmin =idx3, xmax =idx4 ,  color='gray', linestyle=\":\")\n",
    "\n",
    "ax.plot(sodar.index, sodar.values*0.0+270, color='grey', linestyle=\":\")\n",
    "\n",
    "ax.plot(sodar,label=\"sodar\")\n",
    "ax.plot(df_sonic, label=\"sonic\")\n",
    "#ax.plot_date(list_of_datetimes, [270, 270])\n",
    "\n",
    "\n",
    "ax.legend()\n",
    "ax.xaxis.set_major_formatter(mdates.DateFormatter('%m/%d\\n%H:%M'))   \n",
    "ax.set_xlabel(\"Time (M-D-H)\")\n",
    "ax.set_ylabel(\"Wind Direction (deg)\")\n",
    "ax.set_ylim([-20,360])\n",
    "#ax.set_xlim([time_vs_height.index[0], time_vs_height.index[-1]])\n",
    "ax.set_title(\"Wind Direction for SODAR and Sonic Data\")"
   ]
  },
  {
   "cell_type": "code",
   "execution_count": null,
   "metadata": {},
   "outputs": [],
   "source": []
  }
 ],
 "metadata": {
  "kernelspec": {
   "display_name": "Python 3",
   "language": "python",
   "name": "python3"
  },
  "language_info": {
   "codemirror_mode": {
    "name": "ipython",
    "version": 3
   },
   "file_extension": ".py",
   "mimetype": "text/x-python",
   "name": "python",
   "nbconvert_exporter": "python",
   "pygments_lexer": "ipython3",
   "version": "3.7.3"
  }
 },
 "nbformat": 4,
 "nbformat_minor": 2
}
